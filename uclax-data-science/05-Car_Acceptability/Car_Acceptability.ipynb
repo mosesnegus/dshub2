{
 "cells": [
  {
   "cell_type": "code",
   "execution_count": 1,
   "metadata": {},
   "outputs": [],
   "source": [
    "car = read.csv('car.data.txt', header = F)\n",
    "colnames(car) = c('buying_price', 'maint_price', 'no_doors', 'capacity', 'lug_boot', 'safety', 'acc')"
   ]
  },
  {
   "cell_type": "markdown",
   "metadata": {
    "deletable": false,
    "editable": false,
    "nbgrader": {
     "checksum": "06e6b678539cc86d909a94eac60ddfd7",
     "grade": false,
     "grade_id": "cell-3a72ce8e7af3e7e1",
     "locked": true,
     "schema_version": 1,
     "solution": false
    }
   },
   "source": [
    "Why is it a best practice to run the next cell right after loading data?"
   ]
  },
  {
   "cell_type": "markdown",
   "metadata": {
    "deletable": false,
    "nbgrader": {
     "checksum": "ab7a5d7cfa3a506bb83d32cc8fa38bd2",
     "grade": true,
     "grade_id": "cell-1f150a02dc110f2c",
     "locked": false,
     "points": 2,
     "schema_version": 1,
     "solution": true
    }
   },
   "source": [
    "Load in your Functions, libraries, or pre-built files. "
   ]
  },
  {
   "cell_type": "code",
   "execution_count": 2,
   "metadata": {},
   "outputs": [
    {
     "data": {
      "text/html": [
       "<ol class=list-inline>\n",
       "\t<li>1728</li>\n",
       "\t<li>7</li>\n",
       "</ol>\n"
      ],
      "text/latex": [
       "\\begin{enumerate*}\n",
       "\\item 1728\n",
       "\\item 7\n",
       "\\end{enumerate*}\n"
      ],
      "text/markdown": [
       "1. 1728\n",
       "2. 7\n",
       "\n",
       "\n"
      ],
      "text/plain": [
       "[1] 1728    7"
      ]
     },
     "metadata": {},
     "output_type": "display_data"
    }
   ],
   "source": [
    "dim(car)"
   ]
  },
  {
   "cell_type": "markdown",
   "metadata": {
    "deletable": false,
    "editable": false,
    "nbgrader": {
     "checksum": "1596ff16a11dbac561a5cf37c5ee0633",
     "grade": false,
     "grade_id": "cell-05b48133888428f6",
     "locked": true,
     "schema_version": 1,
     "solution": false
    }
   },
   "source": [
    "Why are `no_doors` and `capacity` factors and not integers?"
   ]
  },
  {
   "cell_type": "markdown",
   "metadata": {
    "deletable": false,
    "nbgrader": {
     "checksum": "3cb230bae015c3f90e9634c73b6d649e",
     "grade": true,
     "grade_id": "cell-a30806e17090b423",
     "locked": false,
     "points": 2,
     "schema_version": 1,
     "solution": true
    }
   },
   "source": [
    "They are factors becuase they can take on more values, wheras integers can not."
   ]
  },
  {
   "cell_type": "code",
   "execution_count": 3,
   "metadata": {},
   "outputs": [
    {
     "name": "stdout",
     "output_type": "stream",
     "text": [
      "'data.frame':\t1728 obs. of  7 variables:\n",
      " $ buying_price: Factor w/ 4 levels \"high\",\"low\",\"med\",..: 4 4 4 4 4 4 4 4 4 4 ...\n",
      " $ maint_price : Factor w/ 4 levels \"high\",\"low\",\"med\",..: 4 4 4 4 4 4 4 4 4 4 ...\n",
      " $ no_doors    : Factor w/ 4 levels \"2\",\"3\",\"4\",\"5more\": 1 1 1 1 1 1 1 1 1 1 ...\n",
      " $ capacity    : Factor w/ 3 levels \"2\",\"4\",\"more\": 1 1 1 1 1 1 1 1 1 2 ...\n",
      " $ lug_boot    : Factor w/ 3 levels \"big\",\"med\",\"small\": 3 3 3 2 2 2 1 1 1 3 ...\n",
      " $ safety      : Factor w/ 3 levels \"high\",\"low\",\"med\": 2 3 1 2 3 1 2 3 1 2 ...\n",
      " $ acc         : Factor w/ 4 levels \"acc\",\"good\",\"unacc\",..: 3 3 3 3 3 3 3 3 3 3 ...\n"
     ]
    }
   ],
   "source": [
    "str(car)"
   ]
  },
  {
   "cell_type": "markdown",
   "metadata": {
    "deletable": false,
    "editable": false,
    "nbgrader": {
     "checksum": "65684817b03f47eb88e3d450f24eab0e",
     "grade": false,
     "grade_id": "cell-3a009f5596162e7f",
     "locked": true,
     "schema_version": 1,
     "solution": false
    }
   },
   "source": [
    "What do the commands in the next cell do? Why are they necessary?"
   ]
  },
  {
   "cell_type": "markdown",
   "metadata": {
    "deletable": false,
    "nbgrader": {
     "checksum": "8087274b930a03f4af0f6a0c6b9f5702",
     "grade": true,
     "grade_id": "cell-efac47ec1526f42b",
     "locked": false,
     "points": 2,
     "schema_version": 1,
     "solution": true
    }
   },
   "source": [
    "The command library(caret) loads the caret library. \n",
    "set.seed(10) sets the number 10 as the starting point of our random sequence. "
   ]
  },
  {
   "cell_type": "code",
   "execution_count": 4,
   "metadata": {},
   "outputs": [
    {
     "name": "stderr",
     "output_type": "stream",
     "text": [
      "Loading required package: lattice\n",
      "Loading required package: ggplot2\n"
     ]
    }
   ],
   "source": [
    "library(caret)\n",
    "set.seed(10)"
   ]
  },
  {
   "cell_type": "markdown",
   "metadata": {
    "deletable": false,
    "editable": false,
    "nbgrader": {
     "checksum": "560c9f875637313883fac966b961d305",
     "grade": false,
     "grade_id": "cell-d89f0def62fb6d34",
     "locked": true,
     "schema_version": 1,
     "solution": false
    }
   },
   "source": [
    "What does the next cell  show? **Don't interpret the results. Tell me what the results are.**"
   ]
  },
  {
   "cell_type": "markdown",
   "metadata": {
    "deletable": false,
    "nbgrader": {
     "checksum": "a5d67ad657deb36c10c8c68588233419",
     "grade": true,
     "grade_id": "cell-2b3b0271c06150b1",
     "locked": false,
     "points": 2,
     "schema_version": 1,
     "solution": true
    }
   },
   "source": [
    "It shows the values of the car$acc table. "
   ]
  },
  {
   "cell_type": "code",
   "execution_count": 5,
   "metadata": {},
   "outputs": [
    {
     "data": {
      "text/plain": [
       "\n",
       "  acc  good unacc vgood \n",
       "  384    69  1210    65 "
      ]
     },
     "metadata": {},
     "output_type": "display_data"
    }
   ],
   "source": [
    "table(car$acc)"
   ]
  },
  {
   "cell_type": "code",
   "execution_count": 6,
   "metadata": {},
   "outputs": [
    {
     "data": {
      "text/plain": [
       "\n",
       "       acc       good      unacc      vgood \n",
       "0.22222222 0.03993056 0.70023148 0.03761574 "
      ]
     },
     "metadata": {},
     "output_type": "display_data"
    }
   ],
   "source": [
    "prop.table(table(car$acc))"
   ]
  },
  {
   "cell_type": "markdown",
   "metadata": {
    "deletable": false,
    "editable": false,
    "nbgrader": {
     "checksum": "b609bce9a236ba2f75e28793ca4af9d7",
     "grade": false,
     "grade_id": "cell-35b5adb181d36dc3",
     "locked": true,
     "schema_version": 1,
     "solution": false
    }
   },
   "source": [
    "If `acc` is the target, what kind of a machine learning problem is this? What would be a good metric for the problem? Why? What would be a good benchmark? Why?"
   ]
  },
  {
   "cell_type": "markdown",
   "metadata": {
    "deletable": false,
    "nbgrader": {
     "checksum": "0df80ee79ae07385e400385e92bc3639",
     "grade": true,
     "grade_id": "cell-7987002df002508e",
     "locked": false,
     "points": 5,
     "schema_version": 1,
     "solution": true
    }
   },
   "source": [
    "If acc is the target, what kind of a machine learning problem is this? \n",
    "Unsupervised learning problem.\n",
    "\n",
    "What would be a good metric for the problem? \n",
    "Classification Accuracy\n",
    "\n",
    "Why?\n",
    "Because the values returned are accuracy prediction percentages. \n",
    "\n",
    "What would be a good benchmark? \n",
    "naive bias\n",
    "\n",
    "Why?\n",
    "Its a simple starting point, and all I understand at the moment. "
   ]
  },
  {
   "cell_type": "code",
   "execution_count": 7,
   "metadata": {},
   "outputs": [
    {
     "data": {
      "image/png": "[encoded data removed]",
      "text/plain": [
       "plot without title"
      ]
     },
     "metadata": {},
     "output_type": "display_data"
    }
   ],
   "source": [
    "library(repr)\n",
    "options(repr.plot.width=10, repr.plot.height=4)\n",
    "barplot(prop.table(table(car$acc)))"
   ]
  },
  {
   "cell_type": "markdown",
   "metadata": {
    "deletable": false,
    "editable": false,
    "nbgrader": {
     "checksum": "006948bfe548b49675487631389fdf80",
     "grade": false,
     "grade_id": "cell-25aac4413a8f4d51",
     "locked": true,
     "schema_version": 1,
     "solution": false
    }
   },
   "source": [
    "Describe the distribution of the target class."
   ]
  },
  {
   "cell_type": "markdown",
   "metadata": {
    "deletable": false,
    "nbgrader": {
     "checksum": "39f2174a8089a659772ce90f8028db05",
     "grade": true,
     "grade_id": "cell-d3de745b2867418c",
     "locked": false,
     "points": 1,
     "schema_version": 1,
     "solution": true
    }
   },
   "source": [
    "Abnormal distribution."
   ]
  },
  {
   "cell_type": "markdown",
   "metadata": {
    "deletable": false,
    "editable": false,
    "nbgrader": {
     "checksum": "6661a88f5e50ece611a3277b33c9f18b",
     "grade": false,
     "grade_id": "cell-60efa88399f73abf",
     "locked": true,
     "schema_version": 1,
     "solution": false
    }
   },
   "source": [
    "What does the next cell show?"
   ]
  },
  {
   "cell_type": "markdown",
   "metadata": {
    "deletable": false,
    "nbgrader": {
     "checksum": "11548f683d7e106de90531b8177e9145",
     "grade": true,
     "grade_id": "cell-0c4c68b4c20940a9",
     "locked": false,
     "points": 2,
     "schema_version": 1,
     "solution": true
    }
   },
   "source": [
    "The column values of car. "
   ]
  },
  {
   "cell_type": "code",
   "execution_count": 8,
   "metadata": {},
   "outputs": [
    {
     "data": {
      "text/html": [
       "<dl class=dl-horizontal>\n",
       "\t<dt>buying_price</dt>\n",
       "\t\t<dd>0</dd>\n",
       "\t<dt>maint_price</dt>\n",
       "\t\t<dd>0</dd>\n",
       "\t<dt>no_doors</dt>\n",
       "\t\t<dd>0</dd>\n",
       "\t<dt>capacity</dt>\n",
       "\t\t<dd>0</dd>\n",
       "\t<dt>lug_boot</dt>\n",
       "\t\t<dd>0</dd>\n",
       "\t<dt>safety</dt>\n",
       "\t\t<dd>0</dd>\n",
       "\t<dt>acc</dt>\n",
       "\t\t<dd>0</dd>\n",
       "</dl>\n"
      ],
      "text/latex": [
       "\\begin{description*}\n",
       "\\item[buying\\textbackslash{}\\_price] 0\n",
       "\\item[maint\\textbackslash{}\\_price] 0\n",
       "\\item[no\\textbackslash{}\\_doors] 0\n",
       "\\item[capacity] 0\n",
       "\\item[lug\\textbackslash{}\\_boot] 0\n",
       "\\item[safety] 0\n",
       "\\item[acc] 0\n",
       "\\end{description*}\n"
      ],
      "text/markdown": [
       "buying_price\n",
       ":   0maint_price\n",
       ":   0no_doors\n",
       ":   0capacity\n",
       ":   0lug_boot\n",
       ":   0safety\n",
       ":   0acc\n",
       ":   0\n",
       "\n"
      ],
      "text/plain": [
       "buying_price  maint_price     no_doors     capacity     lug_boot       safety \n",
       "           0            0            0            0            0            0 \n",
       "         acc \n",
       "           0 "
      ]
     },
     "metadata": {},
     "output_type": "display_data"
    }
   ],
   "source": [
    "colSums(is.na(car))"
   ]
  },
  {
   "cell_type": "code",
   "execution_count": 9,
   "metadata": {},
   "outputs": [],
   "source": [
    "car_numeric_features = Filter(is.numeric, car)"
   ]
  },
  {
   "cell_type": "markdown",
   "metadata": {
    "deletable": false,
    "editable": false,
    "nbgrader": {
     "checksum": "03e4786606b83fe63f974ee29bf4d7d3",
     "grade": false,
     "grade_id": "cell-5958a7c546dad8db",
     "locked": true,
     "schema_version": 1,
     "solution": false
    }
   },
   "source": [
    "What do the commands in the next cell do? Why are they necessary?"
   ]
  },
  {
   "cell_type": "markdown",
   "metadata": {
    "deletable": false,
    "nbgrader": {
     "checksum": "679fa6c5f17b77e9b823960ad8fe5738",
     "grade": true,
     "grade_id": "cell-ccbc49ada367e458",
     "locked": false,
     "points": 1,
     "schema_version": 1,
     "solution": true
    }
   },
   "source": [
    "we are populating the training index data frame. we are populating the training data data frame. we are setting indexes for the test and training data. "
   ]
  },
  {
   "cell_type": "code",
   "execution_count": 11,
   "metadata": {},
   "outputs": [],
   "source": [
    "train_index <- createDataPartition(car$acc,p=0.8,list=FALSE)\n",
    "training_data <- car[train_index,]\n",
    "test_data <- car[-train_index,]"
   ]
  },
  {
   "cell_type": "markdown",
   "metadata": {
    "deletable": false,
    "editable": false,
    "nbgrader": {
     "checksum": "a839aaf1cd9942e10b83a71c9411f7dc",
     "grade": false,
     "grade_id": "cell-52b6f15b9919b8f3",
     "locked": true,
     "schema_version": 1,
     "solution": false
    }
   },
   "source": [
    "Interpret these results. How should these results impact our work?"
   ]
  },
  {
   "cell_type": "code",
   "execution_count": null,
   "metadata": {
    "deletable": false,
    "nbgrader": {
     "checksum": "a1f37b76afad7c3f8e7c28b5c0fc2016",
     "grade": true,
     "grade_id": "cell-d721d3d63f21ea17",
     "locked": false,
     "points": 3,
     "schema_version": 1,
     "solution": true
    }
   },
   "outputs": [],
   "source": [
    "# your code here\n",
    "stop('Not implemented.')"
   ]
  },
  {
   "cell_type": "code",
   "execution_count": null,
   "metadata": {},
   "outputs": [],
   "source": [
    "prop.table(table(training_data$acc))\n",
    "prop.table(table(test_data$acc))"
   ]
  },
  {
   "cell_type": "markdown",
   "metadata": {},
   "source": [
    "## EDA"
   ]
  },
  {
   "cell_type": "code",
   "execution_count": null,
   "metadata": {},
   "outputs": [],
   "source": [
    "attach(training_data)"
   ]
  },
  {
   "cell_type": "code",
   "execution_count": null,
   "metadata": {},
   "outputs": [],
   "source": [
    "table(buying_price)\n",
    "prop.table(table(buying_price, acc), 1)\n",
    "\n",
    "table(maint_price)\n",
    "prop.table(table(maint_price, acc), 1)\n",
    "\n",
    "table(no_doors)\n",
    "prop.table(table(no_doors, acc), 1)\n",
    "\n",
    "table(capacity)\n",
    "prop.table(table(capacity, acc), 1)\n",
    "\n",
    "table(lug_boot)\n",
    "prop.table(table(lug_boot, acc), 1)\n",
    "\n",
    "table(safety)\n",
    "prop.table(table(safety, acc), 1)"
   ]
  },
  {
   "cell_type": "markdown",
   "metadata": {
    "deletable": false,
    "editable": false,
    "nbgrader": {
     "checksum": "5fbf4fcc64939ac4fada90e640983be8",
     "grade": false,
     "grade_id": "cell-a0080b6598fc064c",
     "locked": true,
     "schema_version": 1,
     "solution": false
    }
   },
   "source": [
    "Which two features will be the strongest indicator of unacceptability? Why?"
   ]
  },
  {
   "cell_type": "code",
   "execution_count": null,
   "metadata": {
    "deletable": false,
    "nbgrader": {
     "checksum": "896783405af704493cdf946b70b52869",
     "grade": true,
     "grade_id": "cell-aa25dc1ba18de5e8",
     "locked": false,
     "points": 5,
     "schema_version": 1,
     "solution": true
    }
   },
   "outputs": [],
   "source": [
    "# your code here\n",
    "stop('Not implemented.')"
   ]
  },
  {
   "cell_type": "markdown",
   "metadata": {
    "deletable": false,
    "editable": false,
    "nbgrader": {
     "checksum": "ce7a7b4f3395b44172cf8b186415b20d",
     "grade": false,
     "grade_id": "cell-fdb05a0a70a2b377",
     "locked": true,
     "schema_version": 1,
     "solution": false
    }
   },
   "source": [
    "## BONUS\n",
    "\n",
    "Prepare a vectorized model for acceptability."
   ]
  },
  {
   "cell_type": "code",
   "execution_count": 10,
   "metadata": {},
   "outputs": [
    {
     "ename": "ERROR",
     "evalue": "Error in parse(text = x, srcfile = src): <text>:1:3: unexpected symbol\n1: I am\n      ^\n",
     "output_type": "error",
     "traceback": [
      "Error in parse(text = x, srcfile = src): <text>:1:3: unexpected symbol\n1: I am\n      ^\nTraceback:\n"
     ]
    }
   ],
   "source": [
    "I am not there yet. Sorry. "
   ]
  },
  {
   "cell_type": "code",
   "execution_count": null,
   "metadata": {},
   "outputs": [],
   "source": []
  }
 ],
 "metadata": {
  "kernelspec": {
   "display_name": "R",
   "language": "R",
   "name": "ir"
  },
  "language_info": {
   "codemirror_mode": "r",
   "file_extension": ".r",
   "mimetype": "text/x-r-source",
   "name": "R",
   "pygments_lexer": "r",
   "version": "3.4.1"
  }
 },
 "nbformat": 4,
 "nbformat_minor": 2
}
