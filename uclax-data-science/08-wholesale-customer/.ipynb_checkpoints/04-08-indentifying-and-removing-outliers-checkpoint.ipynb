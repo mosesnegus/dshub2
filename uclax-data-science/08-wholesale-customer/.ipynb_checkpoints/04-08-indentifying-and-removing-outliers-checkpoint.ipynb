{
 "cells": [
  {
   "cell_type": "markdown",
   "metadata": {},
   "source": [
    "## Identifying and Removing Outliers"
   ]
  },
  {
   "cell_type": "code",
   "execution_count": null,
   "metadata": {},
   "outputs": [],
   "source": [
    "import numpy as np\n",
    "import pandas as pd\n",
    "import scipy.stats as stats\n",
    "import seaborn as sns\n",
    "import matplotlib.pyplot as plt\n",
    "\n",
    "%matplotlib inline\n",
    "from IPython.display import display\n",
    "\n",
    "from sklearn.preprocessing import StandardScaler\n",
    "import scipy.stats as st\n",
    "\n",
    "customers = pd.read_csv('Wholesale_customers_data.csv')\n",
    "customers.Region = customers.Region.astype('category')\n",
    "customers.Channel = customers.Channel.astype('category')\n",
    "customer_features = customers.select_dtypes([int])\n",
    "\n",
    "scaler = StandardScaler()\n",
    "customer_sc = scaler.fit_transform(customer_features)\n",
    "customer_sc_df = pd.DataFrame(customer_sc, columns=customer_features.columns)\n",
    "\n",
    "customer_log_df = np.log(1+customer_features)\n",
    "scaler.fit(customer_log_df)\n",
    "customer_log_sc = scaler.transform(customer_log_df)\n",
    "customer_log_sc_df = pd.DataFrame(customer_log_sc, columns=customer_features.columns)\n",
    "\n",
    "customer_box_cox_df = pd.DataFrame()\n",
    "for col in customer_features.columns:\n",
    "    box_cox_trans = st.boxcox(customer_features[col])[0]\n",
    "    customer_box_cox_df[col] = pd.Series(box_cox_trans)\n",
    "    \n",
    "scaler.fit(customer_box_cox_df)\n",
    "customer_box_cox_sc = scaler.transform(customer_box_cox_df)\n",
    "customer_box_cox_sc_df = pd.DataFrame(customer_box_cox_sc, columns=customer_features.columns)"
   ]
  },
  {
   "cell_type": "code",
   "execution_count": null,
   "metadata": {},
   "outputs": [],
   "source": [
    "%run load_data.py"
   ]
  },
  {
   "cell_type": "code",
   "execution_count": null,
   "metadata": {},
   "outputs": [],
   "source": [
    "%matplotlib inline"
   ]
  },
  {
   "cell_type": "markdown",
   "metadata": {},
   "source": [
    "To identify outliers in the data, we will use what is [the Tukey Method](http://datapigtechnologies.com/blog/index.php/highlighting-outliers-in-your-data-with-the-tukey-method/). \n",
    "\n",
    "- leverages the Interquartile Range \n",
    "- isn’t dependent on distributional assumptions \n",
    "- ignores the mean and standard deviation\n",
    "- making it resistant to being influenced by the extreme values in the range\n",
    "\n",
    "**Tukey's Method:** look for points that are more than 1.5 times the Inter-quartile range above the third quartile or below the first quartile."
   ]
  },
  {
   "cell_type": "code",
   "execution_count": null,
   "metadata": {},
   "outputs": [],
   "source": [
    "def feature_outliers(dataframe, col, param=1.5):\n",
    "    Q1 = np.percentile(dataframe[col], 25)\n",
    "    Q3 = np.percentile(dataframe[col], 75)\n",
    "    tukey_window = param*(Q3-Q1)\n",
    "    less_than_Q1 = dataframe[col] < Q1 - tukey_window\n",
    "    greater_than_Q3 = dataframe[col] > Q3 + tukey_window\n",
    "    tukey_mask = (less_than_Q1 | greater_than_Q3)\n",
    "    return dataframe[tukey_mask]"
   ]
  },
  {
   "cell_type": "code",
   "execution_count": null,
   "metadata": {},
   "outputs": [],
   "source": [
    "for col in customer_log_sc_df:\n",
    "    print(col, feature_outliers(customer_log_sc_df, col).shape)"
   ]
  },
  {
   "cell_type": "markdown",
   "metadata": {},
   "source": [
    "What if we count the rows that show up as an outlier more than once?"
   ]
  },
  {
   "cell_type": "code",
   "execution_count": null,
   "metadata": {},
   "outputs": [],
   "source": [
    "from collections import Counter"
   ]
  },
  {
   "cell_type": "code",
   "execution_count": null,
   "metadata": {},
   "outputs": [],
   "source": [
    "def multiple_outliers(dataframe, count=2):\n",
    "    raw_outliers = []\n",
    "    for col in dataframe:\n",
    "        outlier_df = feature_outliers(dataframe, col)\n",
    "        raw_outliers += list(outlier_df.index)\n",
    "\n",
    "    outlier_count = Counter(raw_outliers)\n",
    "    outliers = [k for k,v in outlier_count.items() if v >= count]\n",
    "    return outliers"
   ]
  },
  {
   "cell_type": "code",
   "execution_count": null,
   "metadata": {},
   "outputs": [],
   "source": [
    "len(multiple_outliers(customer_features))"
   ]
  },
  {
   "cell_type": "code",
   "execution_count": null,
   "metadata": {},
   "outputs": [],
   "source": [
    "len(multiple_outliers(customer_sc_df))"
   ]
  },
  {
   "cell_type": "code",
   "execution_count": null,
   "metadata": {},
   "outputs": [],
   "source": [
    "len(multiple_outliers(customer_log_sc_df))"
   ]
  },
  {
   "cell_type": "code",
   "execution_count": null,
   "metadata": {},
   "outputs": [],
   "source": [
    "len(multiple_outliers(customer_box_cox_sc_df))"
   ]
  },
  {
   "cell_type": "code",
   "execution_count": null,
   "metadata": {},
   "outputs": [],
   "source": [
    "customer_log_sc_df.shape"
   ]
  },
  {
   "cell_type": "code",
   "execution_count": null,
   "metadata": {},
   "outputs": [],
   "source": [
    "_, ax = plt.subplots(1,4,figsize=(20,6))\n",
    "\n",
    "for i, df in enumerate([customer_features, customer_sc_df, customer_log_sc_df, customer_box_cox_sc_df]):\n",
    "    sns.boxplot(df, ax=ax[i])"
   ]
  },
  {
   "cell_type": "code",
   "execution_count": null,
   "metadata": {},
   "outputs": [],
   "source": [
    "customer_features_outliers_removed = customer_features.drop(multiple_outliers(customer_features))\n",
    "customer_sc_df_outliers_removed = customer_sc_df.drop(multiple_outliers(customer_sc_df))\n",
    "customer_log_sc_df_outliers_removed = customer_log_sc_df.drop(multiple_outliers(customer_log_sc_df))\n",
    "customer_box_cox_sc_df_outliers_removed = customer_box_cox_sc_df.drop(multiple_outliers(customer_box_cox_sc_df))"
   ]
  },
  {
   "cell_type": "code",
   "execution_count": null,
   "metadata": {},
   "outputs": [],
   "source": [
    "(customer_features_outliers_removed.shape,\n",
    " customer_sc_df_outliers_removed.shape,\n",
    " customer_log_sc_df_outliers_removed.shape,\n",
    " customer_box_cox_sc_df_outliers_removed.shape)"
   ]
  }
 ],
 "metadata": {
  "kernelspec": {
   "display_name": "Python 3",
   "language": "python",
   "name": "python3"
  },
  "language_info": {
   "codemirror_mode": {
    "name": "ipython",
    "version": 3
   },
   "file_extension": ".py",
   "mimetype": "text/x-python",
   "name": "python",
   "nbconvert_exporter": "python",
   "pygments_lexer": "ipython3",
   "version": "3.6.4"
  }
 },
 "nbformat": 4,
 "nbformat_minor": 2
}
