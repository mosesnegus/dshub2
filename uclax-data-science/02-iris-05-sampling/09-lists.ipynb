{
 "cells": [
  {
   "cell_type": "code",
   "execution_count": null,
   "metadata": {},
   "outputs": [],
   "source": [
    "!pip install multiset"
   ]
  },
  {
   "cell_type": "code",
   "execution_count": null,
   "metadata": {},
   "outputs": [],
   "source": [
    "from multiset import Multiset\n",
    "from IPython.display import display"
   ]
  },
  {
   "cell_type": "markdown",
   "metadata": {},
   "source": [
    "#### What is the difference between these two syntaxes?\n",
    "- `list((1,2,3,4))`\n",
    "- `[1,2,3,4]`"
   ]
  },
  {
   "cell_type": "markdown",
   "metadata": {
    "deletable": false,
    "nbgrader": {
     "checksum": "bb893177c626887f6afdaad66f121fec",
     "grade": true,
     "grade_id": "cell-911bf575d845675f",
     "locked": false,
     "points": 3,
     "schema_version": 1,
     "solution": true
    }
   },
   "source": [
    "They are the same."
   ]
  },
  {
   "cell_type": "markdown",
   "metadata": {},
   "source": [
    "#### Write a list comprehension\n",
    "\n",
    "In the cell below write a function that uses a list comprehension that takes a numerical list and replaces all of the even numbers with 0. \n",
    "\n",
    "You will receive:\n",
    "\n",
    "- five point for passing the base case ie. writing a function that does the above\n",
    "- five points if you write error handling should the function be handed a non-numeric list\n",
    "   - to pass the test, if the function receives a list that contains non-numeric elements, simply return the string `\"Can not transform list with non-numeric elements\"`.\n",
    "\n",
    "Your function should look like this:\n",
    "\n",
    "    def change_evens_to_zeros(lst):\n",
    "        # do some things\n",
    "        return modified_lst"
   ]
  },
  {
   "cell_type": "code",
   "execution_count": 1,
   "metadata": {
    "deletable": false,
    "nbgrader": {
     "checksum": "37248320586900dbd2007bb3a453b6c7",
     "grade": false,
     "grade_id": "cell-a5e86b16fd350b60",
     "locked": false,
     "schema_version": 1,
     "solution": true
    }
   },
   "outputs": [],
   "source": [
    "# your code here\n",
    "def change_evens_to_zeros():\n",
    "    #do something\n",
    "    return modified_list\n",
    "\n",
    "#raise NotImplementedError"
   ]
  },
  {
   "cell_type": "code",
   "execution_count": 2,
   "metadata": {
    "deletable": false,
    "editable": false,
    "nbgrader": {
     "checksum": "e55025e1300bf7a493c66256df2485fe",
     "grade": true,
     "grade_id": "cell-960a0e875c1c29d3",
     "locked": true,
     "points": 5,
     "schema_version": 1,
     "solution": false
    }
   },
   "outputs": [
    {
     "ename": "TypeError",
     "evalue": "change_evens_to_zeros() takes 0 positional arguments but 1 was given",
     "output_type": "error",
     "traceback": [
      "\u001b[0;31m---------------------------------------------------------------------------\u001b[0m",
      "\u001b[0;31mTypeError\u001b[0m                                 Traceback (most recent call last)",
      "\u001b[0;32m<ipython-input-2-bbd244b28e93>\u001b[0m in \u001b[0;36m<module>\u001b[0;34m()\u001b[0m\n\u001b[0;32m----> 1\u001b[0;31m \u001b[0;32massert\u001b[0m \u001b[0mchange_evens_to_zeros\u001b[0m\u001b[0;34m(\u001b[0m\u001b[0mrange\u001b[0m\u001b[0;34m(\u001b[0m\u001b[0;36m10\u001b[0m\u001b[0;34m)\u001b[0m\u001b[0;34m)\u001b[0m \u001b[0;34m==\u001b[0m \u001b[0;34m[\u001b[0m\u001b[0;36m0\u001b[0m\u001b[0;34m,\u001b[0m \u001b[0;36m1\u001b[0m\u001b[0;34m,\u001b[0m \u001b[0;36m0\u001b[0m\u001b[0;34m,\u001b[0m \u001b[0;36m3\u001b[0m\u001b[0;34m,\u001b[0m \u001b[0;36m0\u001b[0m\u001b[0;34m,\u001b[0m \u001b[0;36m5\u001b[0m\u001b[0;34m,\u001b[0m \u001b[0;36m0\u001b[0m\u001b[0;34m,\u001b[0m \u001b[0;36m7\u001b[0m\u001b[0;34m,\u001b[0m \u001b[0;36m0\u001b[0m\u001b[0;34m,\u001b[0m \u001b[0;36m9\u001b[0m\u001b[0;34m]\u001b[0m\u001b[0;34m\u001b[0m\u001b[0m\n\u001b[0m",
      "\u001b[0;31mTypeError\u001b[0m: change_evens_to_zeros() takes 0 positional arguments but 1 was given"
     ]
    }
   ],
   "source": [
    "assert change_evens_to_zeros(range(10)) == [0, 1, 0, 3, 0, 5, 0, 7, 0, 9]"
   ]
  },
  {
   "cell_type": "code",
   "execution_count": null,
   "metadata": {
    "deletable": false,
    "editable": false,
    "nbgrader": {
     "checksum": "1c3684cb1c24059ffc2d83f6fc3aa7f1",
     "grade": true,
     "grade_id": "cell-953a0a79c7aa7453",
     "locked": true,
     "points": 5,
     "schema_version": 1,
     "solution": false
    }
   },
   "outputs": [],
   "source": [
    "assert change_evens_to_zeros([1,2,3,4,\"five\"]) == \"Can not transform list with non-numeric elements\""
   ]
  },
  {
   "cell_type": "markdown",
   "metadata": {},
   "source": [
    "#### FREE RESPONSE\n",
    "\n",
    "Why do you think it would be useful to have a compound data type that requires all elements to have the same primitive data type?"
   ]
  },
  {
   "cell_type": "code",
   "execution_count": null,
   "metadata": {
    "deletable": false,
    "nbgrader": {
     "checksum": "8e9b46c60e4e19202de3dbcdbf069b45",
     "grade": true,
     "grade_id": "cell-ebcadae30f3b2472",
     "locked": false,
     "points": 7,
     "schema_version": 1,
     "solution": true
    }
   },
   "outputs": [],
   "source": [
    "# your code here\n",
    "raise NotImplementedError"
   ]
  },
  {
   "cell_type": "markdown",
   "metadata": {},
   "source": [
    "# Lists\n",
    "\n",
    "## Primitive Data Types \n",
    "\n",
    "Primitive data types are the most basic datatypes available to a programming language. The most common primitive datatypes in Python are:"
   ]
  },
  {
   "cell_type": "code",
   "execution_count": null,
   "metadata": {},
   "outputs": [],
   "source": [
    "display(type(1))\n",
    "display(type(1.))\n",
    "display(type(True))\n",
    "display(type(None))"
   ]
  },
  {
   "cell_type": "markdown",
   "metadata": {},
   "source": [
    "## Compound Data Types"
   ]
  },
  {
   "cell_type": "markdown",
   "metadata": {},
   "source": [
    "A compound data type is a data type that is made up of one or more primitive data types.\n",
    "\n",
    "Let's consider three compound data types:\n",
    "- `set`\n",
    "- `Multiset`\n",
    "- `list`\n",
    "\n",
    "The **length** of an instance of a compound data type is the number of elements in that instance.\n",
    "\n",
    "The length of a `set` is the number of *unique* elements in that set."
   ]
  },
  {
   "cell_type": "code",
   "execution_count": null,
   "metadata": {},
   "outputs": [],
   "source": [
    "display(len(set((1,1,2,3))))\n",
    "display(len(set((1,2,3))))"
   ]
  },
  {
   "cell_type": "markdown",
   "metadata": {},
   "source": [
    "The length of a `Multiset` is the number of elements in the `Multiset`."
   ]
  },
  {
   "cell_type": "code",
   "execution_count": null,
   "metadata": {},
   "outputs": [],
   "source": [
    "display(len(Multiset((1,1,2,3))))\n",
    "display(len(Multiset((1,2,3))))"
   ]
  },
  {
   "cell_type": "markdown",
   "metadata": {},
   "source": [
    "The length of a `list` is the number of elements in the `list`."
   ]
  },
  {
   "cell_type": "code",
   "execution_count": null,
   "metadata": {},
   "outputs": [],
   "source": [
    "display(len(list((1,1,2,3))))\n",
    "display(len(list((1,2,3))))"
   ]
  },
  {
   "cell_type": "markdown",
   "metadata": {},
   "source": [
    "#### So what is the difference between a `Multiset` and a `list`?"
   ]
  },
  {
   "cell_type": "markdown",
   "metadata": {},
   "source": [
    "In addition to having a length, a list has an **order**. "
   ]
  },
  {
   "cell_type": "markdown",
   "metadata": {},
   "source": [
    "Neither a `set` nor a `multiset` have order."
   ]
  },
  {
   "cell_type": "code",
   "execution_count": null,
   "metadata": {},
   "outputs": [],
   "source": [
    "set((1,1,2,3)) == set((1,2,1,3))"
   ]
  },
  {
   "cell_type": "code",
   "execution_count": null,
   "metadata": {},
   "outputs": [],
   "source": [
    "Multiset((1,1,2,3)) == Multiset((1,2,1,3))"
   ]
  },
  {
   "cell_type": "code",
   "execution_count": null,
   "metadata": {},
   "outputs": [],
   "source": [
    "list((1,1,2,3)) == list((1,2,1,3))"
   ]
  },
  {
   "cell_type": "markdown",
   "metadata": {},
   "source": [
    "Two lists are considered equal if and only if they have the same elements in the same order:"
   ]
  },
  {
   "cell_type": "code",
   "execution_count": null,
   "metadata": {},
   "outputs": [],
   "source": [
    "list((1,2,3,4)) == [1,2,3,4]"
   ]
  },
  {
   "cell_type": "markdown",
   "metadata": {},
   "source": [
    "## Mathematical Definition of a List\n",
    "\n",
    "**Definition**: *list*, *length*\n",
    "\n",
    "A list of length $n$ is an ordered collection of $n$ items separated by commas and surrounded by brackets. \n",
    "\n",
    "We might be tempted to think of a list as a list of numbers"
   ]
  },
  {
   "cell_type": "code",
   "execution_count": null,
   "metadata": {},
   "outputs": [],
   "source": [
    "a_list = [1,2,3,4]\n",
    "a_list"
   ]
  },
  {
   "cell_type": "markdown",
   "metadata": {},
   "source": [
    "But in Python, a list is not restricted to only numbers, and is not even restricted to everything being the same primitive type"
   ]
  },
  {
   "cell_type": "code",
   "execution_count": null,
   "metadata": {},
   "outputs": [],
   "source": [
    "another_list = [\"one\", 2., \"III\", 4]\n",
    "another_list"
   ]
  },
  {
   "cell_type": "markdown",
   "metadata": {},
   "source": [
    "Both of these are lists and have a length."
   ]
  },
  {
   "cell_type": "code",
   "execution_count": null,
   "metadata": {},
   "outputs": [],
   "source": [
    "print(\"The length of a_list is %s.\" % len(a_list))\n",
    "print(\"The length of another_list is %s.\" % len(another_list))"
   ]
  },
  {
   "cell_type": "markdown",
   "metadata": {},
   "source": [
    "It is worth noting that Python lists are indexed from 0 so that the first element is found using the index 0"
   ]
  },
  {
   "cell_type": "code",
   "execution_count": null,
   "metadata": {},
   "outputs": [],
   "source": [
    "that_list[0]"
   ]
  },
  {
   "cell_type": "code",
   "execution_count": null,
   "metadata": {},
   "outputs": [],
   "source": [
    "another_list[2]"
   ]
  },
  {
   "cell_type": "markdown",
   "metadata": {},
   "source": [
    "## List Comprehensions"
   ]
  },
  {
   "cell_type": "markdown",
   "metadata": {},
   "source": [
    "In this next section, we will use a list comprehension as a tool in our programming. A list comprehension is used to transform compound objects. They take this form\n",
    "\n",
    "    [do_something_to(placeholder_var) for placeholder_var in compound_object] "
   ]
  },
  {
   "cell_type": "markdown",
   "metadata": {},
   "source": [
    "For example, we might trivially wish to convert the list `[1,2,3,4]` to the list `[2,3,4,5]`. This could be done using a list comprehension as\n",
    "\n",
    "    transformed_list = [v+1 for v in [1,2,3,4]]"
   ]
  },
  {
   "cell_type": "markdown",
   "metadata": {},
   "source": [
    "We should think of list comprehensions as **vectorized operations** in that we are applying some operation to the entire list, not just one element in the list."
   ]
  },
  {
   "cell_type": "markdown",
   "metadata": {},
   "source": [
    "### ADVANCED: `if` and `if-else` statements in list comprehensions"
   ]
  },
  {
   "cell_type": "markdown",
   "metadata": {},
   "source": [
    "It is trivial to use `if` syntax to filter values from a list comprehension.\n",
    "\n",
    "    [v for v in compound_object if condition_is_true]"
   ]
  },
  {
   "cell_type": "code",
   "execution_count": null,
   "metadata": {},
   "outputs": [],
   "source": [
    "[v for v in [1,2,3,4] if v > 2]"
   ]
  },
  {
   "cell_type": "markdown",
   "metadata": {},
   "source": [
    "Notice that this list only returns the values greater than 2. \n",
    "\n",
    "We could even modify these values."
   ]
  },
  {
   "cell_type": "code",
   "execution_count": null,
   "metadata": {},
   "outputs": [],
   "source": [
    "[v**2 for v in [1,2,3,4] if v > 2]"
   ]
  },
  {
   "cell_type": "markdown",
   "metadata": {},
   "source": [
    "`if-else` syntax is a bit trickier, but can actually be used to conditionallly modify a list using a list comprehension.\n",
    "\n",
    "    [v if condition_is_true else other_val for v in compound_object]"
   ]
  },
  {
   "cell_type": "code",
   "execution_count": null,
   "metadata": {},
   "outputs": [],
   "source": [
    "[a if a > 1 else 0 for a in (1,2,3)]"
   ]
  },
  {
   "cell_type": "code",
   "execution_count": null,
   "metadata": {},
   "outputs": [],
   "source": [
    "[a**2 if a > 2 else a - 4 for a in [1,2,3,4]] "
   ]
  },
  {
   "cell_type": "markdown",
   "metadata": {},
   "source": [
    "## Homogenous Lists"
   ]
  },
  {
   "cell_type": "markdown",
   "metadata": {},
   "source": [
    "Mathematically, we typically require that lists contain values all of the same primitive data type. What if we want to define a list where this is true?\n"
   ]
  },
  {
   "cell_type": "markdown",
   "metadata": {},
   "source": [
    "Here, we define a new class `hlist` that inherits from the original `list` class. It initializes the `list` using the same method \n",
    "\n",
    "    list.__init__(self, *args)\n",
    "    \n",
    "but then checks the types of everything in the list\n",
    "\n",
    "    types = set([type(v) for v in self])\n",
    "    \n",
    "by creating a set of the datatypes of the elements of the list. If all of the data types are the same, the `set` will have a length of 1! If the set of data types does not have a length of 1, this means that we have more than one data type in the list. In this case, we `raise` the error `TypeError(\"All elements of the list must have the same type.\")`."
   ]
  },
  {
   "cell_type": "code",
   "execution_count": null,
   "metadata": {},
   "outputs": [],
   "source": [
    "class hlist(list):\n",
    "    def __init__(self, *args):\n",
    "        list.__init__(self, *args)\n",
    "\n",
    "        types = set([type(v) for v in self])\n",
    "        if len(types) != 1:\n",
    "            raise TypeError(\"All elements of the list must have the same type.\")"
   ]
  },
  {
   "cell_type": "markdown",
   "metadata": {},
   "source": [
    "##### Let's test it out"
   ]
  },
  {
   "cell_type": "code",
   "execution_count": null,
   "metadata": {},
   "outputs": [],
   "source": [
    "try:\n",
    "    this_list = hlist((1,2,3,4))\n",
    "    print(this_list)\n",
    "except TypeError as e:\n",
    "    print(e)"
   ]
  },
  {
   "cell_type": "code",
   "execution_count": null,
   "metadata": {},
   "outputs": [],
   "source": [
    "try:\n",
    "    a_bad_list = hlist((1,2,\"three\"))\n",
    "    print(a_bad_list)\n",
    "except TypeError as e:\n",
    "    print(e)"
   ]
  },
  {
   "cell_type": "code",
   "execution_count": null,
   "metadata": {},
   "outputs": [],
   "source": [
    "try:\n",
    "    a_string_list = hlist((\"one\", \"II\", \"three\"))\n",
    "    print(a_string_list)\n",
    "except TypeError as e:\n",
    "    print(e)"
   ]
  },
  {
   "cell_type": "markdown",
   "metadata": {},
   "source": [
    "Are mixed number types ok, though?"
   ]
  },
  {
   "cell_type": "code",
   "execution_count": null,
   "metadata": {},
   "outputs": [],
   "source": [
    "try:\n",
    "    mixed_number_list = hlist((1., 2, 3))\n",
    "    print(mixed_number_list)\n",
    "except TypeError as e:\n",
    "    print(e)"
   ]
  },
  {
   "cell_type": "markdown",
   "metadata": {},
   "source": [
    "Mixed number typs are causing the `hlist` to `raise` an error. "
   ]
  },
  {
   "cell_type": "code",
   "execution_count": null,
   "metadata": {},
   "outputs": [],
   "source": [
    "set([type(v) for v in (1.,1.,3)])"
   ]
  },
  {
   "cell_type": "markdown",
   "metadata": {},
   "source": [
    "We can see that the set of data types includes two types, `int` and `float`."
   ]
  },
  {
   "cell_type": "markdown",
   "metadata": {},
   "source": [
    "Let's modify the homogenous list class to allow for multiple primitive types *if* they are all numeric."
   ]
  },
  {
   "cell_type": "markdown",
   "metadata": {},
   "source": [
    "We will take the following as numeric types:\n",
    "\n",
    "- `int`\n",
    "- `float`\n",
    "- `complex`"
   ]
  },
  {
   "cell_type": "markdown",
   "metadata": {},
   "source": [
    "Here, we form a set of the data types in our list, but before we do this, we use an `if`-`else` list comprehension to change label for all numeric types to the string `'numeric'`. Consider this"
   ]
  },
  {
   "cell_type": "code",
   "execution_count": null,
   "metadata": {},
   "outputs": [],
   "source": [
    "some_list = [1.,2,4,1+0j]"
   ]
  },
  {
   "cell_type": "code",
   "execution_count": null,
   "metadata": {},
   "outputs": [],
   "source": [
    "types = [type(v) for v in some_list]\n",
    "types"
   ]
  },
  {
   "cell_type": "code",
   "execution_count": null,
   "metadata": {},
   "outputs": [],
   "source": [
    "numeric_types = {int, float, complex}"
   ]
  },
  {
   "cell_type": "code",
   "execution_count": null,
   "metadata": {},
   "outputs": [],
   "source": [
    "types = ['numeric' if t in numeric_types else t for t in types]\n",
    "types"
   ]
  },
  {
   "cell_type": "code",
   "execution_count": null,
   "metadata": {},
   "outputs": [],
   "source": [
    "set(types)"
   ]
  },
  {
   "cell_type": "code",
   "execution_count": null,
   "metadata": {},
   "outputs": [],
   "source": [
    "class hlist(list):\n",
    "    def __init__(self, *args):\n",
    "        list.__init__(self, *args)\n",
    "\n",
    "        numeric_types = {int, float, complex}\n",
    "        \n",
    "        types = [type(v) for v in self]\n",
    "        types = ['numeric' if t in numeric_types \n",
    "                       else t\n",
    "                 for t in types]\n",
    "        unique_types = set(types)\n",
    "        \n",
    "        if len(unique_types) != 1:\n",
    "            raise TypeError(\"All elements of the list must have the same type.\")"
   ]
  },
  {
   "cell_type": "code",
   "execution_count": null,
   "metadata": {},
   "outputs": [],
   "source": [
    "mixed_number_list = hlist((1., 2, 3))"
   ]
  },
  {
   "cell_type": "code",
   "execution_count": null,
   "metadata": {},
   "outputs": [],
   "source": [
    "mixed_number_list"
   ]
  }
 ],
 "metadata": {
  "kernelspec": {
   "display_name": "Python 3",
   "language": "python",
   "name": "python3"
  },
  "language_info": {
   "codemirror_mode": {
    "name": "ipython",
    "version": 3
   },
   "file_extension": ".py",
   "mimetype": "text/x-python",
   "name": "python",
   "nbconvert_exporter": "python",
   "pygments_lexer": "ipython3",
   "version": "3.6.4"
  }
 },
 "nbformat": 4,
 "nbformat_minor": 2
}
