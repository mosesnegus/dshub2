{
 "cells": [
  {
   "cell_type": "code",
   "execution_count": 1,
   "metadata": {},
   "outputs": [],
   "source": [
    "run load_data.py"
   ]
  },
  {
   "cell_type": "markdown",
   "metadata": {},
   "source": [
    "### Evaluating Model Pipelines\n",
    "\n",
    "We will evaluate a total of 24 model pipelines:\n",
    "\n",
    "1. the original data\n",
    "1. the original data with outliers removed\n",
    "1. the original data transformed by a PCA with 2 components \n",
    "1. the original data with outliers removed transformed by a PCA with 2 components \n",
    "1. the original data transformed by a PCA with 3 components \n",
    "1. the original data with outliers removed transformed by a PCA with 3 components  \n",
    "1. scaled data\n",
    "1. scaled data with outliers removed\n",
    "1. scaled data transformed by a PCA with 2 components \n",
    "1. scaled data with outliers removed transformed by a PCA with 2 components\n",
    "1. scaled data transformed by a PCA with 3 components  \n",
    "1. scaled data with outliers removed transformed by a PCA with 3 components  \n",
    "1. log transformed, scaled data\n",
    "1. log transformed, scaled data with outliers removed\n",
    "1. log transformed, scaled data transformed by a PCA with 2 components\n",
    "1. log transformed, scaled data with outliers removed transformed by a PCA with 2 components \n",
    "1. log transformed, scaled data transformed by a PCA with 3 components  \n",
    "1. log transformed, scaled data with outliers removed transformed by a PCA with 3 components  \n",
    "1. box-cox transformed, scaled data\n",
    "1. box-cox transformed, scaled data with outliers removed\n",
    "1. box-cox transformed, scaled data transformed by a PCA with 2 components \n",
    "1. box-cox transformed, scaled data with outliers removed transformed by a PCA with 2 components \n",
    "1. box-cox transformed, scaled data transformed by a PCA with 3 components  \n",
    "1. box-cox transformed, scaled data with outliers removed transformed by a PCA with 3 components  "
   ]
  },
  {
   "cell_type": "markdown",
   "metadata": {},
   "source": [
    "### Experiment Design\n",
    "\n",
    "We will pass each of these transformed data sets to a Gaussian Mixture Model and then assess the model using the BIC."
   ]
  },
  {
   "cell_type": "code",
   "execution_count": 2,
   "metadata": {},
   "outputs": [],
   "source": [
    "from sklearn.mixture import GaussianMixture"
   ]
  },
  {
   "cell_type": "code",
   "execution_count": 3,
   "metadata": {},
   "outputs": [],
   "source": [
    "original_data = [\n",
    "    ('original', customer_features),\n",
    "    ('original - no outliers', customer_features_outliers_removed),\n",
    "    ('original - pca, 2 components', customer_features_pca_2),\n",
    "    ('original - pca, 3 components', customer_features_pca_3),\n",
    "    ('original - no outliers, pca, 2 components', customer_features_outliers_removed_pca_2),\n",
    "    ('original - no outliers, pca, 3 components', customer_features_outliers_removed_pca_3)\n",
    "]\n",
    "\n",
    "scaled_data = [\n",
    "    ('scaled', customer_sc),\n",
    "    ('scaled - no outliers', customer_sc_outliers_removed),\n",
    "    ('scaled - pca, 2 components', customer_sc_pca_2),\n",
    "    ('scaled - pca, 3 components', customer_sc_pca_3),\n",
    "    ('scaled - no outliers, pca, 2 components', customer_sc_outliers_removed_pca_2),\n",
    "    ('scaled - no outliers, pca, 3 components', customer_sc_outliers_removed_pca_3),\n",
    "]\n",
    "\n",
    "log_transformed_data = [\n",
    "    ('log transformed, scaled', customer_log_sc),\n",
    "    ('log transformed, scaled - no outliers', customer_log_sc_outliers_removed),\n",
    "    ('log transformed, scaled - pca, 2 components', customer_log_sc_pca_2),\n",
    "    ('log transformed, scaled - pca, 3 components', customer_log_sc_pca_3),\n",
    "    ('log transformed, scaled - no outliers, pca, 2 components', customer_log_sc_outliers_removed_pca_2),\n",
    "    ('log transformed, scaled - no outliers, pca, 3 components', customer_log_sc_outliers_removed_pca_3),\n",
    "]\n",
    "\n",
    "box_cox_transformed_data = [\n",
    "    ('box-cox transformed, scaled', customer_box_cox_sc),\n",
    "    ('box-cox transformed, scaled - no outliers', customer_box_cox_sc_outliers_removed),\n",
    "    ('box-cox transformed, scaled - pca, 2 components', customer_box_cox_sc_pca_2),\n",
    "    ('box-cox transformed, scaled - pca, 3 components', customer_box_cox_sc_pca_3),\n",
    "    ('box-cox transformed, scaled - no outliers, pca, 2 components', customer_box_cox_sc_outliers_removed_pca_2),\n",
    "    ('box-cox transformed, scaled - no outliers, pca, 3 components', customer_box_cox_sc_outliers_removed_pca_3),\n",
    "]"
   ]
  },
  {
   "cell_type": "code",
   "execution_count": 4,
   "metadata": {},
   "outputs": [],
   "source": [
    "def fit_and_score(data, n_components=2):\n",
    "    model = GaussianMixture(n_components=n_components)\n",
    "    model.fit(data)\n",
    "    return model.bic(data)"
   ]
  },
  {
   "cell_type": "code",
   "execution_count": 5,
   "metadata": {},
   "outputs": [
    {
     "name": "stdout",
     "output_type": "stream",
     "text": [
      "original                                                     2 clusters      50650.96907649888\n",
      "original - no outliers                                       2 clusters      44268.63898204862\n",
      "original - pca, 2 components                                 2 clusters      18695.3062938465\n",
      "original - pca, 3 components                                 2 clusters      27114.512185112213\n",
      "original - no outliers, pca, 2 components                    2 clusters      16482.71332841138\n",
      "original - no outliers, pca, 3 components                    2 clusters      23814.617362885685\n",
      "\n",
      "scaled                                                       2 clusters      4533.578646524035\n",
      "scaled - no outliers                                         2 clusters      2448.4887225648854\n",
      "scaled - pca, 2 components                                   2 clusters      2586.7916217412167\n",
      "scaled - pca, 3 components                                   2 clusters      3415.453290941513\n",
      "scaled - no outliers, pca, 2 components                      2 clusters      1885.5281672006915\n",
      "scaled - no outliers, pca, 3 components                      2 clusters      2392.132208767129\n",
      "\n",
      "log transformed, scaled                                      2 clusters      6434.36691096259\n",
      "log transformed, scaled - no outliers                        2 clusters      6284.272756859132\n",
      "log transformed, scaled - pca, 2 components                  2 clusters      3154.867206148225\n",
      "log transformed, scaled - pca, 3 components                  2 clusters      4170.8300838807345\n",
      "log transformed, scaled - no outliers, pca, 2 components     2 clusters      3042.141635347329\n",
      "log transformed, scaled - no outliers, pca, 3 components     2 clusters      4060.916732780522\n",
      "\n",
      "box-cox transformed, scaled                                  2 clusters      6395.343129795366\n",
      "box-cox transformed, scaled - no outliers                    2 clusters      6323.776764911026\n",
      "box-cox transformed, scaled - pca, 2 components              2 clusters      3185.3042318934267\n",
      "box-cox transformed, scaled - pca, 3 components              2 clusters      4258.879750391357\n",
      "box-cox transformed, scaled - no outliers, pca, 2 components 2 clusters      3135.9991092241034\n",
      "box-cox transformed, scaled - no outliers, pca, 3 components 2 clusters      4202.016824662508\n"
     ]
    }
   ],
   "source": [
    "n = 2\n",
    "\n",
    "results_2_clusters = []\n",
    "\n",
    "for name, data in original_data:\n",
    "    results_2_clusters.append({\n",
    "        'name' : name, \n",
    "        'n' : n, \n",
    "        '' : fit_and_score(data, n)\n",
    "    })\n",
    "\n",
    "print()    \n",
    "\n",
    "for name, data in scaled_data:\n",
    "    print(\"{:60} {} clusters      {}\".format(name, n, fit_and_score(data, n)))\n",
    "\n",
    "print()     \n",
    "    \n",
    "for name, data in log_transformed_data:\n",
    "    print(\"{:60} {} clusters      {}\".format(name, n, fit_and_score(data, n)))\n",
    "\n",
    "print()        \n",
    "    \n",
    "for name, data in box_cox_transformed_data:\n",
    "    print(\"{:60} {} clusters      {}\".format(name, n, fit_and_score(data, n)))    "
   ]
  },
  {
   "cell_type": "code",
   "execution_count": 6,
   "metadata": {},
   "outputs": [
    {
     "name": "stdout",
     "output_type": "stream",
     "text": [
      "original                                                     3 clusters      50086.67703662636\n",
      "original - no outliers                                       3 clusters      44127.15891131583\n",
      "original - pca, 2 components                                 3 clusters      18634.06545070052\n",
      "original - pca, 3 components                                 3 clusters      27038.82202863803\n",
      "original - no outliers, pca, 2 components                    3 clusters      16310.814980246992\n",
      "original - no outliers, pca, 3 components                    3 clusters      23710.092131264664\n",
      "\n",
      "scaled                                                       3 clusters      3936.9918697426965\n",
      "scaled - no outliers                                         3 clusters      2255.2184929602445\n",
      "scaled - pca, 2 components                                   3 clusters      2474.5597943329612\n",
      "scaled - pca, 3 components                                   3 clusters      3359.8095107302556\n",
      "scaled - no outliers, pca, 2 components                      3 clusters      1727.0306865674731\n",
      "scaled - no outliers, pca, 3 components                      3 clusters      2257.444962628054\n",
      "\n",
      "log transformed, scaled                                      3 clusters      6441.144307143318\n",
      "log transformed, scaled - no outliers                        3 clusters      6235.614961705117\n",
      "log transformed, scaled - pca, 2 components                  3 clusters      3179.0488649329473\n",
      "log transformed, scaled - pca, 3 components                  3 clusters      4185.966887508177\n",
      "log transformed, scaled - no outliers, pca, 2 components     3 clusters      3077.797485513766\n",
      "log transformed, scaled - no outliers, pca, 3 components     3 clusters      4114.324395937017\n",
      "\n",
      "box-cox transformed, scaled                                  3 clusters      6372.8206660607975\n",
      "box-cox transformed, scaled - no outliers                    3 clusters      6387.341086776081\n",
      "box-cox transformed, scaled - pca, 2 components              3 clusters      3188.538175750567\n",
      "box-cox transformed, scaled - pca, 3 components              3 clusters      4282.128235611832\n",
      "box-cox transformed, scaled - no outliers, pca, 2 components 3 clusters      3152.775191756424\n",
      "box-cox transformed, scaled - no outliers, pca, 3 components 3 clusters      4236.953761688368\n"
     ]
    }
   ],
   "source": [
    "n = 3\n",
    "results\n",
    "for name, data in original_data:\n",
    "    print(\"{:60} {} clusters      {}\".format(name, n, fit_and_score(data, n)))\n",
    "\n",
    "print()    \n",
    "\n",
    "for name, data in scaled_data:\n",
    "    print(\"{:60} {} clusters      {}\".format(name, n, fit_and_score(data, n)))\n",
    "\n",
    "print()     \n",
    "    \n",
    "for name, data in log_transformed_data:\n",
    "    print(\"{:60} {} clusters      {}\".format(name, n, fit_and_score(data, n)))\n",
    "\n",
    "print()        \n",
    "    \n",
    "for name, data in box_cox_transformed_data:\n",
    "    print(\"{:60} {} clusters      {}\".format(name, n, fit_and_score(data, n)))    "
   ]
  },
  {
   "cell_type": "markdown",
   "metadata": {},
   "source": [
    "### One More Thing ... What About Those Labels?"
   ]
  },
  {
   "cell_type": "code",
   "execution_count": 7,
   "metadata": {},
   "outputs": [],
   "source": [
    "channel = customers.Channel.astype(int) - 1\n",
    "# region = customers.Region"
   ]
  },
  {
   "cell_type": "code",
   "execution_count": 8,
   "metadata": {},
   "outputs": [],
   "source": [
    "from sklearn.metrics import accuracy_score\n",
    "\n",
    "def fit_and_score_predictions(data, labels, n_components=2):\n",
    "    model = GaussianMixture(n_components=n_components)\n",
    "    model.fit(data)\n",
    "    predictions = model.predict(data)\n",
    "    labels_pos = labels\n",
    "    labels_neg = (labels == 0).astype(int)\n",
    "    return max(accuracy_score(labels_pos, predictions), accuracy_score(labels_neg, predictions))"
   ]
  },
  {
   "cell_type": "code",
   "execution_count": 9,
   "metadata": {},
   "outputs": [],
   "source": [
    "original_data_with_labels = [\n",
    "    ('original', customer_features, channel),\n",
    "    ('original - no outliers', customer_features_outliers_removed, channel_original_outliers_removed),\n",
    "    ('original - pca, 2 components', customer_features_pca_2, channel),\n",
    "    ('original - pca, 3 components', customer_features_pca_3, channel),\n",
    "    ('original - no outliers, pca, 2 components', customer_features_outliers_removed_pca_2, channel_original_outliers_removed),\n",
    "    ('original - no outliers, pca, 3 components', customer_features_outliers_removed_pca_3, channel_original_outliers_removed)\n",
    "]\n",
    "\n",
    "scaled_data_with_labels = [\n",
    "    ('scaled', customer_sc, channel),\n",
    "    ('scaled - no outliers', customer_sc_outliers_removed, channel_scaled_outliers_removed),\n",
    "    ('scaled - pca, 2 components', customer_sc_pca_2, channel),\n",
    "    ('scaled - pca, 3 components', customer_sc_pca_3, channel),\n",
    "    ('scaled - no outliers, pca, 2 components', customer_sc_outliers_removed_pca_2, channel_scaled_outliers_removed),\n",
    "    ('scaled - no outliers, pca, 3 components', customer_sc_outliers_removed_pca_3, channel_scaled_outliers_removed),\n",
    "]\n",
    "\n",
    "log_transformed_data_with_labels = [\n",
    "    ('log transformed, scaled', customer_log_sc, channel),\n",
    "    ('log transformed, scaled - no outliers', customer_log_sc_outliers_removed, channel_log_outliers_removed),\n",
    "    ('log transformed, scaled - pca, 2 components', customer_log_sc_pca_2, channel),\n",
    "    ('log transformed, scaled - pca, 3 components', customer_log_sc_pca_3, channel),\n",
    "    ('log transformed, scaled - no outliers, pca, 2 components', customer_log_sc_outliers_removed_pca_2, channel_log_outliers_removed),\n",
    "    ('log transformed, scaled - no outliers, pca, 3 components', customer_log_sc_outliers_removed_pca_3, channel_log_outliers_removed),\n",
    "]\n",
    "\n",
    "box_cox_transformed_data_with_labels = [\n",
    "    ('box-cox transformed, scaled', customer_box_cox_sc, channel),\n",
    "    ('box-cox transformed, scaled - no outliers', customer_box_cox_sc_outliers_removed, channel_box_cox_outliers_removed),\n",
    "    ('box-cox transformed, scaled - pca, 2 components', customer_box_cox_sc_pca_2, channel),\n",
    "    ('box-cox transformed, scaled - pca, 3 components', customer_box_cox_sc_pca_3, channel),\n",
    "    ('box-cox transformed, scaled - no outliers, pca, 2 components', customer_box_cox_sc_outliers_removed_pca_2, channel_box_cox_outliers_removed),\n",
    "    ('box-cox transformed, scaled - no outliers, pca, 3 components', customer_box_cox_sc_outliers_removed_pca_3, channel_box_cox_outliers_removed),\n",
    "]"
   ]
  },
  {
   "cell_type": "code",
   "execution_count": 10,
   "metadata": {},
   "outputs": [
    {
     "name": "stdout",
     "output_type": "stream",
     "text": [
      "original                                                     2 clusters      0.6863636363636364\n",
      "original - no outliers                                       2 clusters      0.8170426065162907\n",
      "original - pca, 2 components                                 2 clusters      0.865909090909091\n",
      "original - pca, 3 components                                 2 clusters      0.6636363636363637\n",
      "original - no outliers, pca, 2 components                    2 clusters      0.5964912280701754\n",
      "original - no outliers, pca, 3 components                    2 clusters      0.5513784461152882\n",
      "\n",
      "scaled                                                       2 clusters      0.7431818181818182\n",
      "scaled - no outliers                                         2 clusters      0.8170426065162907\n",
      "scaled - pca, 2 components                                   2 clusters      0.7\n",
      "scaled - pca, 3 components                                   2 clusters      0.6568181818181819\n",
      "scaled - no outliers, pca, 2 components                      2 clusters      0.8395989974937343\n",
      "scaled - no outliers, pca, 3 components                      2 clusters      0.5588972431077694\n",
      "\n",
      "log transformed, scaled                                      2 clusters      0.8954545454545455\n",
      "log transformed, scaled - no outliers                        2 clusters      0.8919540229885058\n",
      "log transformed, scaled - pca, 2 components                  2 clusters      0.8704545454545455\n",
      "log transformed, scaled - pca, 3 components                  2 clusters      0.6772727272727272\n",
      "log transformed, scaled - no outliers, pca, 2 components     2 clusters      0.8781609195402299\n",
      "log transformed, scaled - no outliers, pca, 3 components     2 clusters      0.6735632183908046\n",
      "\n",
      "box-cox transformed, scaled                                  2 clusters      0.8909090909090909\n",
      "box-cox transformed, scaled - no outliers                    2 clusters      0.8881278538812786\n",
      "box-cox transformed, scaled - pca, 2 components              2 clusters      0.8704545454545455\n",
      "box-cox transformed, scaled - pca, 3 components              2 clusters      0.8727272727272727\n",
      "box-cox transformed, scaled - no outliers, pca, 2 components 2 clusters      0.8767123287671232\n",
      "box-cox transformed, scaled - no outliers, pca, 3 components 2 clusters      0.8789954337899544\n"
     ]
    }
   ],
   "source": [
    "n = 2\n",
    "\n",
    "for name, data, label in original_data_with_labels:\n",
    "    print(\"{:60} {} clusters      {}\".format(name, n, fit_and_score_predictions(data, label, n)))\n",
    "\n",
    "print()    \n",
    "\n",
    "for name, data, label in scaled_data_with_labels:\n",
    "    print(\"{:60} {} clusters      {}\".format(name, n, fit_and_score_predictions(data, label, n)))\n",
    "\n",
    "print()     \n",
    "    \n",
    "for name, data, label in log_transformed_data_with_labels:\n",
    "    print(\"{:60} {} clusters      {}\".format(name, n, fit_and_score_predictions(data, label, n)))\n",
    "\n",
    "print()        \n",
    "    \n",
    "for name, data, label in box_cox_transformed_data_with_labels:\n",
    "    print(\"{:60} {} clusters      {}\".format(name, n, fit_and_score_predictions(data, label, n)))    "
   ]
  },
  {
   "cell_type": "markdown",
   "metadata": {},
   "source": [
    "![](complex_pipe_1.png)\n",
    "\n",
    "![](complex_pipe_2.png)\n",
    "\n",
    "![](complex_pipe_3.png)\n",
    "\n",
    "![](complex_pipe_4.png)\n",
    "\n",
    "![](complex_pipe_5.png)\n"
   ]
  },
  {
   "cell_type": "code",
   "execution_count": null,
   "metadata": {},
   "outputs": [],
   "source": []
  }
 ],
 "metadata": {
  "kernelspec": {
   "display_name": "Python 3",
   "language": "python",
   "name": "python3"
  },
  "language_info": {
   "codemirror_mode": {
    "name": "ipython",
    "version": 3
   },
   "file_extension": ".py",
   "mimetype": "text/x-python",
   "name": "python",
   "nbconvert_exporter": "python",
   "pygments_lexer": "ipython3",
   "version": "3.6.4"
  }
 },
 "nbformat": 4,
 "nbformat_minor": 2
}
