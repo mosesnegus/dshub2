{
 "cells": [
  {
   "cell_type": "markdown",
   "metadata": {},
   "source": [
    "## Ingest the Data\n",
    "\n",
    "This notebook contains the basic commands required to ingest the data for our work. Note that all of these commands were added to the file, `src/load_data-01.r` so that in subsequent notebooks the data is loaded via script.\n",
    "\n",
    "### Join the Data Sets\n",
    "\n",
    "Often you will receive data describing the same instances from multiple data sources. The original Ames, Iowa housing data has been arbitrarily split in order to allow us the opportunity to practice joining data from different sources. "
   ]
  },
  {
   "cell_type": "code",
   "execution_count": null,
   "metadata": {},
   "outputs": [],
   "source": [
    "zoning_df = read.csv('data/zoning.csv')\n",
    "listing_df = read.csv('data/listing.csv')\n",
    "sale_df = read.csv('data/sale.csv')"
   ]
  },
  {
   "cell_type": "code",
   "execution_count": null,
   "metadata": {},
   "outputs": [],
   "source": [
    "head(zoning_df)"
   ]
  },
  {
   "cell_type": "code",
   "execution_count": null,
   "metadata": {},
   "outputs": [],
   "source": [
    "head(listing_df)"
   ]
  },
  {
   "cell_type": "code",
   "execution_count": null,
   "metadata": {
    "scrolled": true
   },
   "outputs": [],
   "source": [
    "head(sale_df)"
   ]
  },
  {
   "cell_type": "markdown",
   "metadata": {},
   "source": [
    "Here, we join the three datasets using the `merge` command using the column `Id` as reference."
   ]
  },
  {
   "cell_type": "code",
   "execution_count": null,
   "metadata": {},
   "outputs": [],
   "source": [
    "housing_df = merge(zoning_df, listing_df, by=\"Id\")\n",
    "housing_df = merge(housing_df, sale_df, by=\"Id\")"
   ]
  },
  {
   "cell_type": "code",
   "execution_count": null,
   "metadata": {},
   "outputs": [],
   "source": [
    "head(housing_df)"
   ]
  },
  {
   "cell_type": "code",
   "execution_count": null,
   "metadata": {},
   "outputs": [],
   "source": [
    "dim(housing_df)"
   ]
  },
  {
   "cell_type": "code",
   "execution_count": null,
   "metadata": {},
   "outputs": [],
   "source": [
    "str(Filter(is.numeric, housing_df))"
   ]
  },
  {
   "cell_type": "code",
   "execution_count": null,
   "metadata": {},
   "outputs": [],
   "source": [
    "rownames(housing_df) <- housing_df$Id \n",
    "housing_df$Id <- NULL"
   ]
  },
  {
   "cell_type": "markdown",
   "metadata": {},
   "source": [
    "### Typecast Categorical Features\n",
    "\n",
    "Several features are categorical in nature in spite of the fact that the data is stored as integer values. We must explicitly cast these features as `factor` type features."
   ]
  },
  {
   "cell_type": "code",
   "execution_count": null,
   "metadata": {},
   "outputs": [],
   "source": [
    "housing_df$MSSubClass <- as.factor(housing_df$MSSubClass)\n",
    "housing_df$OverallQual <- as.factor(housing_df$OverallQual)\n",
    "housing_df$OverallCond <- as.factor(housing_df$OverallCond)\n",
    "housing_df$BsmtFullBath <- as.factor(housing_df$BsmtFullBath)\n",
    "housing_df$BsmtHalfBath <- as.factor(housing_df$BsmtHalfBath)\n",
    "housing_df$FullBath <- as.factor(housing_df$FullBath)\n",
    "housing_df$HalfBath <- as.factor(housing_df$HalfBath)\n",
    "housing_df$BedroomAbvGr <- as.factor(housing_df$BedroomAbvGr)\n",
    "housing_df$KitchenAbvGr <- as.factor(housing_df$KitchenAbvGr)\n",
    "housing_df$TotRmsAbvGrd <- as.factor(housing_df$TotRmsAbvGrd)\n",
    "housing_df$Fireplaces <- as.factor(housing_df$Fireplaces)\n",
    "housing_df$GarageCars <- as.factor(housing_df$GarageCars)\n",
    "housing_df$MoSold <- as.factor(housing_df$MoSold)"
   ]
  }
 ],
 "metadata": {
  "kernelspec": {
   "display_name": "R",
   "language": "R",
   "name": "ir"
  },
  "language_info": {
   "codemirror_mode": "r",
   "file_extension": ".r",
   "mimetype": "text/x-r-source",
   "name": "R",
   "pygments_lexer": "r",
   "version": "3.4.1"
  }
 },
 "nbformat": 4,
 "nbformat_minor": 2
}
