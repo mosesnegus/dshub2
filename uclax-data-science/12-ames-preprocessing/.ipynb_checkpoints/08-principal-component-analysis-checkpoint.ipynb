{
 "cells": [
  {
   "cell_type": "code",
   "execution_count": null,
   "metadata": {},
   "outputs": [],
   "source": [
    "import matplotlib.pyplot as plt\n",
    "import seaborn as sns\n",
    "\n",
    "%matplotlib inline"
   ]
  },
  {
   "cell_type": "code",
   "execution_count": null,
   "metadata": {},
   "outputs": [],
   "source": [
    "run src/preprocessing.py"
   ]
  },
  {
   "cell_type": "code",
   "execution_count": null,
   "metadata": {},
   "outputs": [],
   "source": [
    "numeric_gelman_categorical_significant = pd.merge(numeric_log_gel_sc_out_rem_df, \n",
    "                                                  categorical_encoded_features_significant_variance_centered_out_rem,\n",
    "                                                  left_index=True, right_index=True)"
   ]
  },
  {
   "cell_type": "code",
   "execution_count": null,
   "metadata": {},
   "outputs": [],
   "source": [
    "from sklearn.decomposition import PCA\n",
    "pca_log_std_sc_out_rem = PCA()\n",
    "pca_log_gel_sc_out_rem = PCA()\n",
    "pca_num_gel_cat = PCA()\n",
    "\n",
    "pca_log_std_sc_out_rem.fit(numeric_log_std_sc_out_rem_df)\n",
    "pca_log_gel_sc_out_rem.fit(numeric_log_gel_sc_out_rem_df)\n",
    "pca_num_gel_cat.fit(numeric_gelman_categorical_significant)"
   ]
  },
  {
   "cell_type": "code",
   "execution_count": null,
   "metadata": {},
   "outputs": [],
   "source": [
    "plt.figure(figsize=(20,5))\n",
    "plt.plot(pca_log_std_sc_out_rem.explained_variance_ratio_, label='Standard Scaled Numeric')\n",
    "plt.plot(pca_log_gel_sc_out_rem.explained_variance_ratio_, label='Gelman Scaled Numeric')\n",
    "plt.plot(pca_num_gel_cat.explained_variance_ratio_, label='Gelman Scaled Numeric + Significant Categorical')\n",
    "plt.legend()"
   ]
  },
  {
   "cell_type": "code",
   "execution_count": null,
   "metadata": {},
   "outputs": [],
   "source": [
    "plt.figure(figsize=(20,5))\n",
    "plt.plot(pca_log_std_sc_out_rem.explained_variance_ratio_[:10], label='Standard Scaled Numeric')\n",
    "plt.plot(pca_log_gel_sc_out_rem.explained_variance_ratio_[:10], label='Gelman Scaled Numeric')\n",
    "plt.plot(pca_num_gel_cat.explained_variance_ratio_[:10], label='Gelman Scaled Numeric + Significant Categorical')\n",
    "plt.legend()"
   ]
  },
  {
   "cell_type": "code",
   "execution_count": null,
   "metadata": {},
   "outputs": [],
   "source": [
    "pca_log_std_sc_out_rem = PCA(8)\n",
    "pca_log_gel_sc_out_rem = PCA(8)\n",
    "pca_num_gel_cat = PCA(8)\n",
    "\n",
    "pca_log_std_sc_out_rem.fit(numeric_log_std_sc_out_rem_df)\n",
    "pca_log_gel_sc_out_rem.fit(numeric_log_gel_sc_out_rem_df)\n",
    "pca_num_gel_cat.fit(numeric_gelman_categorical_significant)"
   ]
  },
  {
   "cell_type": "code",
   "execution_count": null,
   "metadata": {},
   "outputs": [],
   "source": [
    "L_log_std_sc_out_rem = pca_log_std_sc_out_rem.explained_variance_ratio_\n",
    "L_log_gel_sc_out_rem = pca_log_gel_sc_out_rem.explained_variance_ratio_\n",
    "L_num_gel_cat = pca_num_gel_cat.explained_variance_ratio_"
   ]
  },
  {
   "cell_type": "code",
   "execution_count": null,
   "metadata": {},
   "outputs": [],
   "source": [
    "P_log_std_sc_out_rem = pd.DataFrame(pca_log_std_sc_out_rem.components_, columns=numeric_log_std_sc_out_rem_df.columns)\n",
    "P_log_gel_sc_out_rem = pd.DataFrame(pca_log_gel_sc_out_rem.components_, columns=numeric_log_gel_sc_out_rem_df.columns)\n",
    "P_num_gel_cat = pd.DataFrame(pca_num_gel_cat.components_, columns=numeric_gelman_categorical_significant.columns)"
   ]
  },
  {
   "cell_type": "code",
   "execution_count": null,
   "metadata": {},
   "outputs": [],
   "source": [
    "_, ax = plt.subplots(3,1,figsize=(20,20))\n",
    "P_log_std_sc_out_rem.plot(kind='bar', rot=0, title=\"log_std_sc_out_rem\", ax=ax[0]); \n",
    "P_log_gel_sc_out_rem.plot(kind='bar', rot=0, title=\"log_gel_sc_out_rem\", ax=ax[1])\n",
    "P_num_gel_cat.plot(kind='bar', rot=0, title=\"log_gel_sc_out_rem\", ax=ax[2])\n",
    "\n",
    "ax[0].legend(loc='center left', bbox_to_anchor=(1, 0.5), mode='expand')\n",
    "ax[1].legend(loc='center left', bbox_to_anchor=(1, 0.5), mode='expand')\n",
    "ax[2].legend(loc='center left', bbox_to_anchor=(1, 0.5), ncol=3)\n",
    "\n",
    "ax[0].set_xticklabels(['PC ' + str(i+1) +' // ' + str(round(ratio,2)) for i, ratio in enumerate(L_log_std_sc_out_rem)])\n",
    "ax[1].set_xticklabels(['PC ' + str(i+1) +' // ' + str(round(ratio,2)) for i, ratio in enumerate(L_log_gel_sc_out_rem)])\n",
    "ax[2].set_xticklabels(['PC ' + str(i+1) +' // ' + str(round(ratio,2)) for i, ratio in enumerate(L_num_gel_cat)]);"
   ]
  },
  {
   "cell_type": "code",
   "execution_count": null,
   "metadata": {},
   "outputs": [],
   "source": [
    "P_num_gel_cat_abs = P_num_gel_cat.abs()\n",
    "\n",
    "def top_20_features_by_PC_abs(pc_num):\n",
    "    PC_0_abs_sorted_index = P_num_gel_cat_abs.T.sort_values(pc_num, ascending=False).index\n",
    "    PC_0_abs_sorted_index\n",
    "    return P_num_gel_cat[PC_0_abs_sorted_index].T[pc_num].head(20)"
   ]
  },
  {
   "cell_type": "code",
   "execution_count": null,
   "metadata": {},
   "outputs": [],
   "source": [
    "top_20_features_by_PC_abs(0)"
   ]
  },
  {
   "cell_type": "code",
   "execution_count": null,
   "metadata": {},
   "outputs": [],
   "source": [
    "top_20_features_by_PC_abs(1)"
   ]
  },
  {
   "cell_type": "code",
   "execution_count": null,
   "metadata": {},
   "outputs": [],
   "source": [
    "top_20_features_by_PC_abs(2)"
   ]
  },
  {
   "cell_type": "code",
   "execution_count": null,
   "metadata": {},
   "outputs": [],
   "source": [
    "numeric_log_std_sc_out_rem_pca_df = pd.DataFrame(pca_log_std_sc_out_rem.transform(numeric_log_std_sc_out_rem_df),\n",
    "                                                 columns=['PC 1', 'PC 2', 'PC 3', 'PC 4', 'PC 5', 'PC 6', 'PC 7', 'PC 8'])\n",
    "numeric_gelman_categorical_significant_pca = pd.DataFrame(pca_num_gel_cat.transform(numeric_gelman_categorical_significant),\n",
    "                                                 columns=['PC 1', 'PC 2', 'PC 3', 'PC 4', 'PC 5', 'PC 6', 'PC 7', 'PC 8'])"
   ]
  }
 ],
 "metadata": {
  "kernelspec": {
   "display_name": "Python 3",
   "language": "python",
   "name": "python3"
  },
  "language_info": {
   "codemirror_mode": {
    "name": "ipython",
    "version": 3
   },
   "file_extension": ".py",
   "mimetype": "text/x-python",
   "name": "python",
   "nbconvert_exporter": "python",
   "pygments_lexer": "ipython3",
   "version": "3.6.5"
  }
 },
 "nbformat": 4,
 "nbformat_minor": 2
}
