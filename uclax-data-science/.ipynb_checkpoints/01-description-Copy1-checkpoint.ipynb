{
 "cells": [
  {
   "cell_type": "code",
   "execution_count": 1,
   "metadata": {},
   "outputs": [],
   "source": [
    "seeds.data = read.csv(\"data/seeds.csv\", row.names='X')"
   ]
  },
  {
   "cell_type": "code",
   "execution_count": 2,
   "metadata": {},
   "outputs": [
    {
     "data": {
      "text/plain": [
       "\n",
       "Call:\n",
       "glm(formula = \"label ~ 1 + area + perimeter + compactness + kernel_length + kernel_width + asymmetry_coef + kernel_grooveln\", \n",
       "    data = seeds.data)\n",
       "\n",
       "Deviance Residuals: \n",
       "     Min        1Q    Median        3Q       Max  \n",
       "-1.31887  -0.24382  -0.01955   0.24295   1.21277  \n",
       "\n",
       "Coefficients:\n",
       "                 Estimate Std. Error t value Pr(>|t|)    \n",
       "(Intercept)      55.64792    7.54634   7.374 4.90e-12 ***\n",
       "area              1.56488    0.26256   5.960 1.20e-08 ***\n",
       "perimeter        -3.41870    0.54156  -6.313 1.87e-09 ***\n",
       "compactness     -31.97971    5.33149  -5.998 9.81e-09 ***\n",
       "kernel_length    -2.14741    0.46110  -4.657 5.99e-06 ***\n",
       "kernel_width      0.24688    0.78939   0.313    0.755    \n",
       "asymmetry_coef    0.10838    0.02327   4.658 5.97e-06 ***\n",
       "kernel_grooveln   2.15089    0.20559  10.462  < 2e-16 ***\n",
       "---\n",
       "Signif. codes:  0 ‘***’ 0.001 ‘**’ 0.01 ‘*’ 0.05 ‘.’ 0.1 ‘ ’ 1\n",
       "\n",
       "(Dispersion parameter for gaussian family taken to be 0.1660733)\n",
       "\n",
       "    Null deviance: 130.99  on 198  degrees of freedom\n",
       "Residual deviance:  31.72  on 191  degrees of freedom\n",
       "  (11 observations deleted due to missingness)\n",
       "AIC: 217.3\n",
       "\n",
       "Number of Fisher Scoring iterations: 2\n"
      ]
     },
     "metadata": {},
     "output_type": "display_data"
    }
   ],
   "source": [
    "seeds.glm = glm(\"label ~ 1 + area + perimeter + compactness + kernel_length + kernel_width + asymmetry_coef + kernel_grooveln\", data = seeds.data)\n",
    "summary(seeds.glm)"
   ]
  },
  {
   "cell_type": "code",
   "execution_count": 3,
   "metadata": {},
   "outputs": [
    {
     "data": {
      "text/plain": [
       "'log Lik.' -99.6512 (df=9)"
      ]
     },
     "metadata": {},
     "output_type": "display_data"
    }
   ],
   "source": [
    "logLik(seeds.glm)"
   ]
  },
  {
   "cell_type": "code",
   "execution_count": 4,
   "metadata": {},
   "outputs": [
    {
     "data": {
      "text/html": [
       "246.942152387597"
      ],
      "text/latex": [
       "246.942152387597"
      ],
      "text/markdown": [
       "246.942152387597"
      ],
      "text/plain": [
       "[1] 246.9422"
      ]
     },
     "metadata": {},
     "output_type": "display_data"
    }
   ],
   "source": [
    "BIC(seeds.glm)"
   ]
  },
  {
   "cell_type": "code",
   "execution_count": 6,
   "metadata": {},
   "outputs": [
    {
     "data": {
      "text/plain": [
       "'log Lik.' 246.9422 (df=9)"
      ]
     },
     "metadata": {},
     "output_type": "display_data"
    }
   ],
   "source": [
    "n = length(seeds.glm$fitted.values)\n",
    "p = length(coefficients(seeds.glm))\n",
    "\n",
    "likelihood = 2 * logLik(seeds.glm)\n",
    "complexity = log(n)*(p+1)\n",
    "\n",
    "bic = complexity - likelihood\n",
    "bic"
   ]
  },
  {
   "cell_type": "code",
   "execution_count": 7,
   "metadata": {},
   "outputs": [],
   "source": [
    "BIC_of_model = function (model) {\n",
    "    n = length(model$fitted.values)\n",
    "    p = length(coefficients(model))\n",
    "\n",
    "    likelihood = 2 * logLik(model)\n",
    "    complexity = log(n)*(p+1)\n",
    "\n",
    "    bic = complexity - likelihood\n",
    "    return(bic)\n",
    "}"
   ]
  },
  {
   "cell_type": "code",
   "execution_count": 8,
   "metadata": {},
   "outputs": [
    {
     "ename": "ERROR",
     "evalue": "Error in BIC_of_model(iris.glm): object 'iris.glm' not found\n",
     "output_type": "error",
     "traceback": [
      "Error in BIC_of_model(iris.glm): object 'iris.glm' not found\nTraceback:\n",
      "1. BIC_of_model(iris.glm)"
     ]
    }
   ],
   "source": [
    "BIC_of_model(iris.glm)"
   ]
  },
  {
   "cell_type": "code",
   "execution_count": null,
   "metadata": {},
   "outputs": [],
   "source": []
  }
 ],
 "metadata": {
  "kernelspec": {
   "display_name": "R",
   "language": "R",
   "name": "ir"
  },
  "language_info": {
   "codemirror_mode": "r",
   "file_extension": ".r",
   "mimetype": "text/x-r-source",
   "name": "R",
   "pygments_lexer": "r",
   "version": "3.4.1"
  }
 },
 "nbformat": 4,
 "nbformat_minor": 2
}
