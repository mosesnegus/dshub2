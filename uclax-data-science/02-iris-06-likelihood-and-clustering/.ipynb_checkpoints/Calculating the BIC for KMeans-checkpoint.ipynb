{
 "cells": [
  {
   "cell_type": "markdown",
   "metadata": {},
   "source": [
    "We will be using a library `tqdm` to track the progress of our model fitting. "
   ]
  },
  {
   "cell_type": "code",
   "execution_count": null,
   "metadata": {},
   "outputs": [],
   "source": [
    "# !pip install tqdm"
   ]
  },
  {
   "cell_type": "code",
   "execution_count": null,
   "metadata": {},
   "outputs": [],
   "source": [
    "from tqdm import tqdm\n",
    "import pandas as pd\n",
    "from sklearn.cluster import KMeans\n",
    "from sklearn.metrics import silhouette_score\n",
    "from time import time\n",
    "from bic import BIC"
   ]
  },
  {
   "cell_type": "code",
   "execution_count": null,
   "metadata": {},
   "outputs": [],
   "source": [
    "iris_df = pd.read_csv('data/iris.csv')"
   ]
  },
  {
   "cell_type": "markdown",
   "metadata": {},
   "source": [
    "These helper functions will help us to fit the model and track the time required for the fit."
   ]
  },
  {
   "cell_type": "code",
   "execution_count": null,
   "metadata": {},
   "outputs": [],
   "source": [
    "def fit_and_time(model, data):\n",
    "    start = time()\n",
    "    model = model.fit(data)\n",
    "    end = time() - start\n",
    "    return {'fit_time' : end, 'model' : model}\n",
    "\n",
    "def process_results(results_list, data):\n",
    "    df = pd.DataFrame(results_list)\n",
    "    df['k'] = df.model.apply(lambda x: x.n_clusters)\n",
    "    df['bic'] = df.model.apply(lambda x: BIC(x, data))\n",
    "    df['sil_sc'] = df.model.apply(lambda x: silhouette_score(data, x.labels_))\n",
    "    df.set_index('k', inplace=True)\n",
    "    return df "
   ]
  },
  {
   "cell_type": "code",
   "execution_count": null,
   "metadata": {},
   "outputs": [],
   "source": [
    "ks = range(2, 50)\n",
    "\n",
    "kmeans_models = []\n",
    "\n",
    "X = iris_df.drop('label', axis=1)\n",
    "\n",
    "for k in tqdm(ks):\n",
    "    kmeans_models.append(fit_and_time(KMeans(n_clusters=k, init=\"k-means++\"), X))\n",
    "kmeans_models_df = process_results(kmeans_models, X)"
   ]
  },
  {
   "cell_type": "code",
   "execution_count": null,
   "metadata": {},
   "outputs": [],
   "source": [
    "import matplotlib.pyplot as plt"
   ]
  },
  {
   "cell_type": "code",
   "execution_count": null,
   "metadata": {},
   "outputs": [],
   "source": [
    "_, ax = plt.subplots(1, 3, figsize=(20,5))\n",
    "ax[0].plot(kmeans_models_df.index, kmeans_models_df.bic, label='BIC by cluster')\n",
    "ax[0].legend()\n",
    "ax[1].plot(kmeans_models_df.index, kmeans_models_df.sil_sc, label='Silhouette Score by cluster')\n",
    "ax[1].legend()\n",
    "ax[2].plot(kmeans_models_df.index, kmeans_models_df.fit_time, label='Fit by cluster')\n",
    "ax[2].legend()"
   ]
  },
  {
   "cell_type": "code",
   "execution_count": null,
   "metadata": {},
   "outputs": [],
   "source": [
    "X_sc = (X - X.mean())/X.std()"
   ]
  },
  {
   "cell_type": "code",
   "execution_count": null,
   "metadata": {},
   "outputs": [],
   "source": [
    "ks = range(2, 50)\n",
    "\n",
    "kmeans_sc_models = []\n",
    "\n",
    "X = iris_df.drop('label', axis=1)\n",
    "\n",
    "for k in tqdm(ks):\n",
    "    kmeans_sc_models.append(fit_and_time(KMeans(n_clusters=k, init=\"k-means++\"), X_sc))\n",
    "kmeans_sc_models_df = process_results(kmeans_sc_models, X_sc)"
   ]
  },
  {
   "cell_type": "code",
   "execution_count": null,
   "metadata": {},
   "outputs": [],
   "source": [
    "_, ax = plt.subplots(1, 3, figsize=(20,5))\n",
    "ax[0].plot(kmeans_sc_models_df.index, kmeans_sc_models_df.bic, label='BIC by cluster')\n",
    "ax[0].legend()\n",
    "ax[1].plot(kmeans_sc_models_df.index, kmeans_sc_models_df.sil_sc, label='Silhouette Score by cluster')\n",
    "ax[1].legend()\n",
    "ax[2].plot(kmeans_sc_models_df.index, kmeans_sc_models_df.fit_time, label='Fit by cluster')\n",
    "ax[2].legend()"
   ]
  },
  {
   "cell_type": "code",
   "execution_count": null,
   "metadata": {},
   "outputs": [],
   "source": [
    "_, ax = plt.subplots(1, 2, figsize=(20,5))\n",
    "ax[0].plot(kmeans_sc_models_df.index[:15], kmeans_sc_models_df.bic[:15], label='BIC by cluster')\n",
    "ax[0].legend()\n",
    "ax[1].plot(kmeans_sc_models_df.index[:15], kmeans_sc_models_df.sil_sc[:15], label='Silhouette Score by cluster')\n",
    "ax[1].legend()"
   ]
  },
  {
   "cell_type": "code",
   "execution_count": null,
   "metadata": {},
   "outputs": [],
   "source": [
    "kmeans_sc_models_df.model.values[0]"
   ]
  },
  {
   "cell_type": "code",
   "execution_count": null,
   "metadata": {},
   "outputs": [],
   "source": [
    "kmeans_2 = kmeans_sc_models_df.model.values[0]\n",
    "kmeans_3 = kmeans_sc_models_df.model.values[1]\n",
    "kmeans_4 = kmeans_sc_models_df.model.values[2]\n",
    "kmeans_5 = kmeans_sc_models_df.model.values[3]"
   ]
  },
  {
   "cell_type": "code",
   "execution_count": null,
   "metadata": {},
   "outputs": [],
   "source": [
    "from sklearn.decomposition import PCA\n",
    "from sklearn.preprocessing import StandardScaler\n",
    "\n",
    "number_of_dimensions = 2\n",
    "pca = PCA(number_of_dimensions)\n",
    "\n",
    "_, ax = plt.subplots(1,5, figsize=(20,6))\n",
    "iris_2d = pca.fit_transform(X_sc)\n",
    "ax[0].scatter(iris_2d[:, 0], iris_2d[:, 1], c=iris_df.label)\n",
    "ax[0].set_title('Actual')\n",
    "ax[1].scatter(iris_2d[:, 0], iris_2d[:, 1], c=kmeans_2.labels_)\n",
    "ax[1].set_title('2 Clusters')\n",
    "ax[2].scatter(iris_2d[:, 0], iris_2d[:, 1], c=kmeans_3.labels_)\n",
    "ax[2].set_title('3 Clusters')\n",
    "ax[3].scatter(iris_2d[:, 0], iris_2d[:, 1], c=kmeans_4.labels_)\n",
    "ax[3].set_title('4 Clusters')\n",
    "ax[4].scatter(iris_2d[:, 0], iris_2d[:, 1], c=kmeans_5.labels_)\n",
    "ax[4].set_title('5 Clusters');"
   ]
  },
  {
   "cell_type": "code",
   "execution_count": null,
   "metadata": {},
   "outputs": [],
   "source": []
  }
 ],
 "metadata": {
  "kernelspec": {
   "display_name": "Python 3",
   "language": "python",
   "name": "python3"
  },
  "language_info": {
   "codemirror_mode": {
    "name": "ipython",
    "version": 3
   },
   "file_extension": ".py",
   "mimetype": "text/x-python",
   "name": "python",
   "nbconvert_exporter": "python",
   "pygments_lexer": "ipython3",
   "version": "3.6.4"
  }
 },
 "nbformat": 4,
 "nbformat_minor": 2
}
