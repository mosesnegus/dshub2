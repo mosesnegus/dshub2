{
 "cells": [
  {
   "cell_type": "markdown",
   "metadata": {},
   "source": [
    "# A System of Linear Equations\n",
    "\n",
    "Consider the system of equations:\n",
    "\n",
    "$$y = 3x - 2$$\n",
    "\n",
    "$$y = -5x + 6$$"
   ]
  },
  {
   "cell_type": "code",
   "execution_count": 1,
   "metadata": {},
   "outputs": [],
   "source": [
    "xx = seq(-1, 2, by=.1)"
   ]
  },
  {
   "cell_type": "code",
   "execution_count": 2,
   "metadata": {},
   "outputs": [
    {
     "data": {
      "text/html": [
       "<ol class=list-inline>\n",
       "\t<li>-1</li>\n",
       "\t<li>-0.9</li>\n",
       "\t<li>-0.8</li>\n",
       "\t<li>-0.7</li>\n",
       "\t<li>-0.6</li>\n",
       "\t<li>-0.5</li>\n",
       "\t<li>-0.4</li>\n",
       "\t<li>-0.3</li>\n",
       "\t<li>-0.2</li>\n",
       "\t<li>-0.1</li>\n",
       "\t<li>0</li>\n",
       "\t<li>0.1</li>\n",
       "\t<li>0.2</li>\n",
       "\t<li>0.3</li>\n",
       "\t<li>0.4</li>\n",
       "\t<li>0.5</li>\n",
       "\t<li>0.6</li>\n",
       "\t<li>0.7</li>\n",
       "\t<li>0.8</li>\n",
       "\t<li>0.9</li>\n",
       "\t<li>1</li>\n",
       "\t<li>1.1</li>\n",
       "\t<li>1.2</li>\n",
       "\t<li>1.3</li>\n",
       "\t<li>1.4</li>\n",
       "\t<li>1.5</li>\n",
       "\t<li>1.6</li>\n",
       "\t<li>1.7</li>\n",
       "\t<li>1.8</li>\n",
       "\t<li>1.9</li>\n",
       "\t<li>2</li>\n",
       "</ol>\n"
      ],
      "text/latex": [
       "\\begin{enumerate*}\n",
       "\\item -1\n",
       "\\item -0.9\n",
       "\\item -0.8\n",
       "\\item -0.7\n",
       "\\item -0.6\n",
       "\\item -0.5\n",
       "\\item -0.4\n",
       "\\item -0.3\n",
       "\\item -0.2\n",
       "\\item -0.1\n",
       "\\item 0\n",
       "\\item 0.1\n",
       "\\item 0.2\n",
       "\\item 0.3\n",
       "\\item 0.4\n",
       "\\item 0.5\n",
       "\\item 0.6\n",
       "\\item 0.7\n",
       "\\item 0.8\n",
       "\\item 0.9\n",
       "\\item 1\n",
       "\\item 1.1\n",
       "\\item 1.2\n",
       "\\item 1.3\n",
       "\\item 1.4\n",
       "\\item 1.5\n",
       "\\item 1.6\n",
       "\\item 1.7\n",
       "\\item 1.8\n",
       "\\item 1.9\n",
       "\\item 2\n",
       "\\end{enumerate*}\n"
      ],
      "text/markdown": [
       "1. -1\n",
       "2. -0.9\n",
       "3. -0.8\n",
       "4. -0.7\n",
       "5. -0.6\n",
       "6. -0.5\n",
       "7. -0.4\n",
       "8. -0.3\n",
       "9. -0.2\n",
       "10. -0.1\n",
       "11. 0\n",
       "12. 0.1\n",
       "13. 0.2\n",
       "14. 0.3\n",
       "15. 0.4\n",
       "16. 0.5\n",
       "17. 0.6\n",
       "18. 0.7\n",
       "19. 0.8\n",
       "20. 0.9\n",
       "21. 1\n",
       "22. 1.1\n",
       "23. 1.2\n",
       "24. 1.3\n",
       "25. 1.4\n",
       "26. 1.5\n",
       "27. 1.6\n",
       "28. 1.7\n",
       "29. 1.8\n",
       "30. 1.9\n",
       "31. 2\n",
       "\n",
       "\n"
      ],
      "text/plain": [
       " [1] -1.0 -0.9 -0.8 -0.7 -0.6 -0.5 -0.4 -0.3 -0.2 -0.1  0.0  0.1  0.2  0.3  0.4\n",
       "[16]  0.5  0.6  0.7  0.8  0.9  1.0  1.1  1.2  1.3  1.4  1.5  1.6  1.7  1.8  1.9\n",
       "[31]  2.0"
      ]
     },
     "metadata": {},
     "output_type": "display_data"
    }
   ],
   "source": [
    "xx"
   ]
  },
  {
   "cell_type": "code",
   "execution_count": 3,
   "metadata": {},
   "outputs": [],
   "source": [
    "yy1 <- 3*xx - 2\n",
    "yy2 <- -5*xx + 6"
   ]
  },
  {
   "cell_type": "code",
   "execution_count": 4,
   "metadata": {},
   "outputs": [],
   "source": [
    "library(repr)"
   ]
  },
  {
   "cell_type": "code",
   "execution_count": 5,
   "metadata": {},
   "outputs": [
    {
     "data": {
      "image/png": "[encoded data removed]",
      "text/plain": [
       "plot without title"
      ]
     },
     "metadata": {},
     "output_type": "display_data"
    }
   ],
   "source": [
    "options(repr.plot.width=12, repr.plot.height=6)\n",
    "plot(xx, yy1, ylim=c(-10,20), xlim=c(-1,2))\n",
    "points(xx, yy2)\n",
    "abline(h=0); abline(v=0)"
   ]
  },
  {
   "cell_type": "markdown",
   "metadata": {},
   "source": [
    "## The Solution\n",
    "\n",
    "The solution to this system of equations is a hyperplane in one less dimension than the two equations. Each equation is a line, a 1-D hyperplane. The hyperplane describing their intersection is a point a 0-D hyperplane.\n",
    "\n",
    "### Find the Solution Analytically"
   ]
  },
  {
   "cell_type": "markdown",
   "metadata": {},
   "source": [
    " "
   ]
  },
  {
   "cell_type": "markdown",
   "metadata": {},
   "source": [
    " "
   ]
  },
  {
   "cell_type": "markdown",
   "metadata": {},
   "source": [
    " "
   ]
  },
  {
   "cell_type": "code",
   "execution_count": null,
   "metadata": {},
   "outputs": [],
   "source": [
    "options(repr.plot.width=12, repr.plot.height=6)\n",
    "plot(xx, yy1, ylim=c(-10,20), xlim=c(-1,2), col=\"red\")\n",
    "points(xx, yy2, col=\"green\")\n",
    "# plot the solution \n",
    "points(1, 1, col=\"blue\")\n",
    "abline(h=0); abline(v=0)"
   ]
  },
  {
   "cell_type": "code",
   "execution_count": null,
   "metadata": {},
   "outputs": [],
   "source": []
  }
 ],
 "metadata": {
  "kernelspec": {
   "display_name": "R",
   "language": "R",
   "name": "ir"
  },
  "language_info": {
   "codemirror_mode": "r",
   "file_extension": ".r",
   "mimetype": "text/x-r-source",
   "name": "R",
   "pygments_lexer": "r",
   "version": "3.4.1"
  }
 },
 "nbformat": 4,
 "nbformat_minor": 2
}
