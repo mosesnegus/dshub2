{
 "cells": [
  {
   "cell_type": "code",
   "execution_count": 1,
   "metadata": {},
   "outputs": [
    {
     "name": "stderr",
     "output_type": "stream",
     "text": [
      "ERROR:root:File `'../preamble.py'` not found.\n"
     ]
    }
   ],
   "source": [
    "%run ../preamble.py\n",
    "%matplotlib inline"
   ]
  },
  {
   "cell_type": "markdown",
   "metadata": {},
   "source": [
    "# Vectorized Functions\n",
    "\n",
    "## Back to Algebra I\n",
    "\n",
    "The slope-intercept equation:\n",
    "\n",
    "$$y = mx+b$$\n",
    "\n",
    "\n",
    "Here, we are defining a relationship between two variables, $x$ and $y$. \n",
    "\n",
    "You should think of this as a **mapping** $x \\mapsto y$ or the **function** $f(x)=y$.\n",
    "\n",
    "We can use R to model a linear function of two variables.\n",
    "\n",
    "The word \"model\" here is important. A mathematical function in a computer is by necessity a model. We typically think of mathematical functions as continuous. In between two points on a function curve, we can always find a third point. \n",
    "\n",
    "Computationally i.e. in a computer, we can not do this. We *must* work with a finite set of values. \n",
    "\n",
    "##### A Note on Markdown and Latex in Jupyter\n",
    "\n",
    "Jupyter markdown cells can take markdown, html, or latex to render text. Latex (pronouced \"lay-teck\") is a programming language for designed for rendering technical writing, especially math.\n",
    "\n",
    "For example, if we write\n",
    "\n",
    "    $$\\frac{1}{2}$$\n",
    "    \n",
    "it will appear as\n",
    "\n",
    "$$\\frac{1}{2}$$"
   ]
  },
  {
   "cell_type": "markdown",
   "metadata": {},
   "source": [
    "### A Vector of $x$ values\n",
    "\n",
    "##### A Note on Nomenclature\n",
    "\n",
    "We will use `xx` for the name for a vectors of $x$ values and `yy` for a vector of $y$ values."
   ]
  },
  {
   "cell_type": "code",
   "execution_count": null,
   "metadata": {},
   "outputs": [],
   "source": [
    "xx = np.arange(1,11)"
   ]
  },
  {
   "cell_type": "markdown",
   "metadata": {},
   "source": [
    "`xx` is a vector of values from 1 to 10 incremented by 1."
   ]
  },
  {
   "cell_type": "code",
   "execution_count": null,
   "metadata": {},
   "outputs": [],
   "source": [
    "xx"
   ]
  },
  {
   "cell_type": "markdown",
   "metadata": {},
   "source": [
    "### A Vector of $y$ values"
   ]
  },
  {
   "cell_type": "markdown",
   "metadata": {},
   "source": [
    "If we consider the slope-intercept equation:\n",
    "\n",
    "$$y = 0.1x+1$$\n",
    "\n",
    "We can generate a `yy` vector of values by performing simple vector arithmetic."
   ]
  },
  {
   "cell_type": "code",
   "execution_count": null,
   "metadata": {},
   "outputs": [],
   "source": [
    "yy = 0.1*xx + 1"
   ]
  },
  {
   "cell_type": "code",
   "execution_count": null,
   "metadata": {},
   "outputs": [],
   "source": [
    "yy"
   ]
  },
  {
   "cell_type": "markdown",
   "metadata": {},
   "source": [
    "Here, each value in `xx` gets multiplied by 0.1 and incremented by 1."
   ]
  },
  {
   "cell_type": "code",
   "execution_count": null,
   "metadata": {},
   "outputs": [],
   "source": [
    "initialize_2d_plot(-2,11,-1,5)\n",
    "plt.scatter(xx, yy)"
   ]
  },
  {
   "cell_type": "code",
   "execution_count": null,
   "metadata": {},
   "outputs": [],
   "source": [
    "xx = np.arange(1,11)"
   ]
  }
 ],
 "metadata": {
  "kernelspec": {
   "display_name": "Python 3",
   "language": "python",
   "name": "python3"
  },
  "language_info": {
   "codemirror_mode": {
    "name": "ipython",
    "version": 3
   },
   "file_extension": ".py",
   "mimetype": "text/x-python",
   "name": "python",
   "nbconvert_exporter": "python",
   "pygments_lexer": "ipython3",
   "version": "3.6.4"
  }
 },
 "nbformat": 4,
 "nbformat_minor": 2
}
