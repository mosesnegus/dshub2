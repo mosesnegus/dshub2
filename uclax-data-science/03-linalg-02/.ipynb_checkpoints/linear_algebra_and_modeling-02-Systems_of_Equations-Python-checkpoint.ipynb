{
 "cells": [
  {
   "cell_type": "code",
   "execution_count": 1,
   "metadata": {
    "tags": [
     "remove"
    ]
   },
   "outputs": [],
   "source": [
    "%run preamble.py\n",
    "%matplotlib inline"
   ]
  },
  {
   "cell_type": "markdown",
   "metadata": {},
   "source": [
    "# A System of Linear Equations\n",
    "\n",
    "$$f(x) = 3x - 2$$\n",
    "\n",
    "$$f(x) = -5x + 6$$"
   ]
  },
  {
   "cell_type": "code",
   "execution_count": null,
   "metadata": {},
   "outputs": [],
   "source": [
    "xx = np.arange(-1, 2, .1)"
   ]
  },
  {
   "cell_type": "code",
   "execution_count": null,
   "metadata": {},
   "outputs": [],
   "source": [
    "xx"
   ]
  },
  {
   "cell_type": "code",
   "execution_count": null,
   "metadata": {},
   "outputs": [],
   "source": [
    "yy1 = 3*xx - 2\n",
    "yy2 = -5*xx + 6"
   ]
  },
  {
   "cell_type": "markdown",
   "metadata": {},
   "source": [
    "## Plot System of Equations in Python"
   ]
  },
  {
   "cell_type": "code",
   "execution_count": null,
   "metadata": {},
   "outputs": [],
   "source": [
    "fig = initialize_2d_plot(-1,2,-7,15)\n",
    "plt.plot(xx, yy1, label='f1')\n",
    "plt.plot(xx, yy2, label='f2')\n",
    "plt.legend()"
   ]
  },
  {
   "cell_type": "markdown",
   "metadata": {},
   "source": [
    "## The Solution\n",
    "\n",
    "The solution to this system of equations is a hyperplane in one less dimension than the two equations. Each equation is a line, a 1-D hyperplane. The hyperplane describing their intersection is a point a 0-D hyperplane.\n",
    "\n",
    "### Find the Solution Analytically\n",
    "\n",
    "\\begin{align}\n",
    "y &= 3x - 2\\\\\n",
    "y &= -5x + 6\\\\\n",
    "3x-2&=-5x+6\\tag{both are equal to $y$}\\\\\n",
    "8x &= 8\\\\\n",
    "x &=1\\\\\n",
    "y &= 3\\cdot1 - 2 = 1\\tag{plug $x$=1 into the first equation}\\\\\n",
    "y &= -5\\cdot1 + 6 = 1\\tag{plug $x$=1 into the second equation}\n",
    "\\end{align}\n",
    "Both equations yield $y=1$ implying that our solution is $(1,1)$.\n",
    "\n"
   ]
  },
  {
   "cell_type": "code",
   "execution_count": null,
   "metadata": {},
   "outputs": [],
   "source": [
    "fig = initialize_2d_plot(-1,2,-7,15)\n",
    "plt.plot(xx, yy1, label='f1')\n",
    "plt.plot(xx, yy2, label='f2')\n",
    "plt.plot(1,1,'o',c='red', markersize=15)\n",
    "plt.legend()"
   ]
  },
  {
   "cell_type": "code",
   "execution_count": null,
   "metadata": {},
   "outputs": [],
   "source": []
  }
 ],
 "metadata": {
  "kernelspec": {
   "display_name": "Python 3",
   "language": "python",
   "name": "python3"
  },
  "language_info": {
   "codemirror_mode": {
    "name": "ipython",
    "version": 3
   },
   "file_extension": ".py",
   "mimetype": "text/x-python",
   "name": "python",
   "nbconvert_exporter": "python",
   "pygments_lexer": "ipython3",
   "version": "3.6.4"
  }
 },
 "nbformat": 4,
 "nbformat_minor": 2
}
